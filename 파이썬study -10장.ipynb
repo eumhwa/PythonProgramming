{
 "cells": [
  {
   "cell_type": "code",
   "execution_count": 6,
   "metadata": {},
   "outputs": [
    {
     "data": {
      "text/plain": [
       "['.Rhistory',\n",
       " 'Python스터디_6장.ipynb',\n",
       " 'Python스터디_8장.ipynb',\n",
       " 'relativity',\n",
       " 'rate.json',\n",
       " 'templates',\n",
       " '.git',\n",
       " 'python스터디_7장.ipynb',\n",
       " 'python스터디 -2장.ipynb',\n",
       " 'index.html',\n",
       " '.ipynb_checkpoints',\n",
       " 'readme.txt',\n",
       " 'numpy_test.ipynb',\n",
       " 'Untitled.ipynb',\n",
       " 'python스터디- 4장.ipynb',\n",
       " 'python스터디 -3장.ipynb',\n",
       " 'enterprise.db',\n",
       " 'Python스터디_5장.ipynb',\n",
       " 'villains',\n",
       " 'Python스터디_9장.ipynb']"
      ]
     },
     "execution_count": 6,
     "metadata": {},
     "output_type": "execute_result"
    }
   ],
   "source": [
    "import os\n",
    "\n",
    "os.listdir('./') #현재 디렉토리의 파일리스트\n",
    "\n",
    "#os.mkdir('/home/eumhwa/PycharmProjects/test') -> 절대, 상대경로 모두 사용가능\n",
    "\n",
    "os.listdir('./')\n",
    "#os.mkdir('./PycharmProjects/test2') #디렉토리 생성\n",
    "#os.chdir('./PycharmProjects/') # 디렉토리 이동\n",
    "#os.mkdir('../testa/test3/') # .. : 상위디렉토리에 접근해서 디렉토리 생성 (cd ..)\n",
    "#os.rmdir('./test')\n",
    "\n",
    "os.listdir() #ls -a 랑 같은 기능\n",
    "\n",
    "\n"
   ]
  },
  {
   "cell_type": "code",
   "execution_count": 11,
   "metadata": {},
   "outputs": [
    {
     "data": {
      "text/plain": [
       "[]"
      ]
     },
     "execution_count": 11,
     "metadata": {},
     "output_type": "execute_result"
    }
   ],
   "source": [
    "#일치하는 파일 나열하기 : glob() ->절대,상대경로 모두 사용가능\n",
    "import glob\n",
    "glob.glob('test.py')\n",
    "glob.glob('t*')\n",
    "# * : 모든 것에 일치\n",
    "# ? : 한문자에 일치\n",
    "# [abc] : a,b 혹은 c에 일치\n",
    "# [!abc] : a,b 혹은 c를 제외한 문자에 일치\n",
    "\n",
    "glob.glob('??????')\n",
    "glob.glob('[!abc]')\n",
    "glob.glob('[m??????e]') # m으로 시작하고 e로 끝나는 8글자 단어 찾기\n"
   ]
  },
  {
   "cell_type": "code",
   "execution_count": 16,
   "metadata": {},
   "outputs": [
    {
     "name": "stdout",
     "output_type": "stream",
     "text": [
      "False\n",
      "True\n"
     ]
    }
   ],
   "source": [
    "#파일의 존재여부 확인 : exists()\n",
    "os.chdir('../PycharmProjects/')\n",
    "os.path.exists('test')\n",
    "\n",
    "#타입 확인하기 : isfile() : 타입확인, isdir(): 디렉토리확인, isabs() :함수가 절대경로인지 확인\n",
    "name = 'test'\n",
    "print(os.path.isfile(name))\n",
    "print(os.path.isdir(name)) "
   ]
  },
  {
   "cell_type": "code",
   "execution_count": null,
   "metadata": {
    "collapsed": true
   },
   "outputs": [],
   "source": [
    "#복사히기 : copy()\n",
    "import shutil\n",
    "\n",
    "shutil.copy('test.py', 'testc.py')\n",
    "shutil.copy('testc.py', '../testc3.py') #상위 디렉토리에 복사하기\n",
    "\n",
    "#복사 후 원본 지우기 : move()\n",
    "shutil.move('test.py', 'testd.py')\n",
    "\n",
    "#파일이름 변경하기 : rename() \n",
    "os.rename('test2.py', 'testc.py')\n",
    "\n",
    "#파일 제거하기 : remove()\n",
    "os.remove('testc.py')\n",
    "os.remove(../'testc3.py') # 상위디렉토리의 파일 제거하기\n",
    "\n",
    "\n"
   ]
  },
  {
   "cell_type": "code",
   "execution_count": null,
   "metadata": {
    "collapsed": true
   },
   "outputs": [],
   "source": [
    "#링크 : link(), symlink()\n",
    "#윈도우에는 대응되는 개념으로 '바로가기'가 있다\n",
    "\n",
    "#심볼릭링크와 하드링크의 공통점\n",
    "#링크파일이나 원본파일을 변경 시 같이 변경된다.\n",
    "\n",
    "#심볼릭링크와 하드링크의 차이점 : 하드링크의 경우 원본 파일이 삭제 되어도 남아 있다.\n",
    "\n",
    "#심볼링 링크는 원본이 어디 메모리에 있는지 알고 있어서 그걸 쓰는거고\n",
    "#하드링크는 메모리에 두개가 올라가는거 \n",
    "#그래서 심볼릭 링크는 원본이 없어지면 사용의미가 없다\n",
    "\n",
    "\n",
    "#심볼릭 링크를 복사하면 링크가 복사되는 것이 아니라 원본 파일이 복사된다.\n"
   ]
  },
  {
   "cell_type": "code",
   "execution_count": 17,
   "metadata": {},
   "outputs": [
    {
     "data": {
      "text/plain": [
       "'/home/eumhwa/test.py'"
      ]
     },
     "execution_count": 17,
     "metadata": {},
     "output_type": "execute_result"
    }
   ],
   "source": [
    "#절대경로 얻기 : abspath()\n",
    "os.path.abspath('test.py')\n",
    "\n",
    "#심볼릭 링크 경로 얻기\n",
    "os.path.realpath('linktest.py')\n",
    "\n",
    "\n",
    "os.symlink('test.py', '../linktest.py')\n",
    "os.path.realpath('../linktest.py') #ls -il : 터미널에서 링크, 깨짐유무 확인가능\n",
    "\n",
    "\n"
   ]
  },
  {
   "cell_type": "code",
   "execution_count": null,
   "metadata": {
    "collapsed": true
   },
   "outputs": [],
   "source": [
    "#하나의 프로그램을 실행할 때 운영체제는 하나의 프로세스를 생성한다,\n",
    "\n",
    "#커널을 프로세스가 얼만큼의 시스템리소스를 사용할 것인지를 결정 -> 이를 '스케줄링'이라 한다.\n",
    "\n",
    "#각각의 프로세스는 독립된 존재이다.\n"
   ]
  },
  {
   "cell_type": "code",
   "execution_count": 26,
   "metadata": {},
   "outputs": [
    {
     "name": "stdout",
     "output_type": "stream",
     "text": [
      "Mon Aug 21 11:10:43 KST 2017\n",
      "Mon Aug 21 02:10:43 UTC 2017\n",
      "b'Mon Aug 21 02:10:43 UTC 2017\\n'\n",
      "(0, 'Mon Aug 21 11:10:43 KST 2017')\n",
      "0\n"
     ]
    }
   ],
   "source": [
    "#프로세스 생성하기 : subprocess 모듈\n",
    "#다른 프로그램을 시작하거나 멈출 수 있는 함수가 포함된 모듈\n",
    "\n",
    "#getoutput() : 쉘에서 프로그램을 실행한 결과 출력\n",
    "import subprocess\n",
    "ret = subprocess.getoutput('date') #우리나라시간 -> kst\n",
    "print(ret)\n",
    "ret = subprocess.getoutput('date -u') # 협정표준시간\n",
    "print(ret)\n",
    "\n",
    "#check_output() : 매개변수로 명령과 인자의 리스트를 취한다.\n",
    "ret = subprocess.check_output(['date', '-u'])\n",
    "print(ret)\n",
    "\n",
    "#getstatusoutput : 상태코드외 결과를 튜플로 반환\n",
    "ret = subprocess.getstatusoutput('date')\n",
    "print(ret) # 0: 프로그램의 상태가 성공적으로 종료됨을 표시\n",
    "\n",
    "#call : 상태코드만 저장하고 싶을 경우\n",
    "ret = subprocess.call('date')\n",
    "print(ret)\n"
   ]
  },
  {
   "cell_type": "code",
   "execution_count": 42,
   "metadata": {},
   "outputs": [
    {
     "name": "stdout",
     "output_type": "stream",
     "text": [
      "0\n",
      "1\n",
      "2\n",
      "3\n"
     ]
    }
   ],
   "source": [
    "#프로세스 생성하기2 : multiprocessing 모듈\n",
    "#한프로그램에서 독립적인 여러 프로세스를 실행할 수 있게 하는 모듈\n",
    "\n",
    "import multiprocessing\n",
    "\n",
    "def func(what):         #\n",
    "    print(\"%s\"%what)\n",
    "    \n",
    "if __name__ == \"__main__\": #메인함수 정의\n",
    "    for n in range(4):\n",
    "        p = multiprocessing.Process(target = func, args = (n,)) #프로세스 생성, 함수지정 , 인자값은 튜플형태로 받기 \n",
    "        p.start() #한 프로그램 내에서 여러 프로세스 실행 (4개)\n",
    "        \n"
   ]
  },
  {
   "cell_type": "code",
   "execution_count": 33,
   "metadata": {},
   "outputs": [
    {
     "name": "stdout",
     "output_type": "stream",
     "text": [
      "1503281926.0476086\n",
      "Mon Aug 21 11:18:46 2017\n",
      "time.struct_time(tm_year=2017, tm_mon=8, tm_mday=21, tm_hour=11, tm_min=18, tm_sec=46, tm_wday=0, tm_yday=233, tm_isdst=0)\n",
      "time.struct_time(tm_year=2017, tm_mon=8, tm_mday=21, tm_hour=2, tm_min=18, tm_sec=46, tm_wday=0, tm_yday=233, tm_isdst=0)\n"
     ]
    }
   ],
   "source": [
    "#프로세스 죽이기 : terminate()\n",
    "#하나이상의 프로세스를 생성한 상황에서 어떠한 이유에 의해서 프로세스를 죽일 때 사용\n",
    "\n",
    "\n",
    "\n",
    "#time 모듈\n",
    "#타임스탬프 : 1970년 1월1일 자정 이후 시간을 기준으로 초단위의 절대시간\n",
    "import time\n",
    "now = time.time()\n",
    "print(now)\n",
    "\n",
    "#epoch를 문자열로 변환\n",
    "print(time.ctime(now)) #위의 절대시간 초를 epoch이라 하고, 이를 문자열로 반환\n",
    "\n",
    "#현지, 협정표준시의 struct_time 객체\n",
    "print(time.localtime(now))\n",
    "print(time.gmtime(now))\n",
    "\n",
    "\n"
   ]
  },
  {
   "cell_type": "code",
   "execution_count": 48,
   "metadata": {},
   "outputs": [
    {
     "name": "stdout",
     "output_type": "stream",
     "text": [
      "it's Monday August 21 2017\n",
      "time.struct_time(tm_year=2017, tm_mon=8, tm_mday=20, tm_hour=0, tm_min=0, tm_sec=0, tm_wday=6, tm_yday=232, tm_isdst=-1)\n"
     ]
    }
   ],
   "source": [
    "#날짜와 시간 읽기 : strftime() -> struct_time 객체를 원하는 포맷에 맞게 읽는 함수\n",
    "fmt = \"it's %A %B %d %Y\"\n",
    "now = time.localtime() #디폴트는 현재시간\n",
    "print(time.strftime(fmt, now))\n",
    "\n",
    "\n",
    "#날짜와 시간 쓰기 : strptime() -> 문자열을 struct_time 객체로 변환\n",
    "fmt = \"%Y-%m-%d\"\n",
    "#time.strptime(\"2017 8 20\", fmt) #문자열을 포맷과 정확히 일치 해야한다.\n",
    "print(time.strptime(\"2017-8-20\", fmt))"
   ]
  },
  {
   "cell_type": "code",
   "execution_count": 55,
   "metadata": {},
   "outputs": [
    {
     "name": "stdout",
     "output_type": "stream",
     "text": [
      "Mon Aug 21 11:33:26 2017\n"
     ]
    },
    {
     "ename": "TypeError",
     "evalue": "Tuple or struct_time argument required",
     "output_type": "error",
     "traceback": [
      "\u001b[0;31m---------------------------------------------------------------------------\u001b[0m",
      "\u001b[0;31mTypeError\u001b[0m                                 Traceback (most recent call last)",
      "\u001b[0;32m<ipython-input-55-8f49bd37ec99>\u001b[0m in \u001b[0;36m<module>\u001b[0;34m()\u001b[0m\n\u001b[1;32m     13\u001b[0m \u001b[0;34m\u001b[0m\u001b[0m\n\u001b[1;32m     14\u001b[0m \u001b[0mfmt\u001b[0m \u001b[0;34m=\u001b[0m \u001b[0;34m\"%Y-%m-%d\"\u001b[0m\u001b[0;34m\u001b[0m\u001b[0m\n\u001b[0;32m---> 15\u001b[0;31m \u001b[0mnow3\u001b[0m \u001b[0;34m=\u001b[0m \u001b[0mtime\u001b[0m\u001b[0;34m.\u001b[0m\u001b[0mstrftime\u001b[0m\u001b[0;34m(\u001b[0m\u001b[0mfmt\u001b[0m\u001b[0;34m,\u001b[0m \u001b[0mtodaystring\u001b[0m\u001b[0;34m)\u001b[0m\u001b[0;34m\u001b[0m\u001b[0m\n\u001b[0m\u001b[1;32m     16\u001b[0m \u001b[0mtime\u001b[0m\u001b[0;34m.\u001b[0m\u001b[0mstrptime\u001b[0m\u001b[0;34m(\u001b[0m\u001b[0;34m\"yyyy-mm-dd\"\u001b[0m\u001b[0;34m,\u001b[0m \u001b[0mfmt\u001b[0m\u001b[0;34m)\u001b[0m\u001b[0;34m\u001b[0m\u001b[0m\n",
      "\u001b[0;31mTypeError\u001b[0m: Tuple or struct_time argument required"
     ]
    }
   ],
   "source": [
    "#ex1) 현재 날짜를 문자열로 작성하여 \"today.txt\"파일로 저장\n",
    "import time\n",
    "now = time.time()\n",
    "now2 = time.ctime(now)\n",
    "print(now2)\n",
    "\n",
    "\n",
    "#ex2) \"today.txt\"파일을 읽어 todaystring문자열에 저장할 것\n",
    "\n",
    "todaystring = now2\n",
    "\n",
    "#ex3) todaystring을 struct_time 객체로 파싱해라\n",
    "\n",
    "fmt = \"%Y-%m-%d\"\n",
    "now3 = time.strftime(fmt, todaystring)\n",
    "time.strptime(\"yyyy-mm-dd\", fmt)"
   ]
  }
 ],
 "metadata": {
  "kernelspec": {
   "display_name": "Python 3",
   "language": "python",
   "name": "python3"
  },
  "language_info": {
   "codemirror_mode": {
    "name": "ipython",
    "version": 3
   },
   "file_extension": ".py",
   "mimetype": "text/x-python",
   "name": "python",
   "nbconvert_exporter": "python",
   "pygments_lexer": "ipython3",
   "version": "3.6.1"
  }
 },
 "nbformat": 4,
 "nbformat_minor": 2
}
