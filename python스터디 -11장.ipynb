{
 "cells": [
  {
   "cell_type": "code",
   "execution_count": 2,
   "metadata": {},
   "outputs": [
    {
     "name": "stdout",
     "output_type": "stream",
     "text": [
      "Washing salad dish\n",
      "Washing bread dish\n",
      "Washing entree dish\n",
      "Washing dessert dish\n",
      "Drying salad dish\n",
      "Drying bread dish\n",
      "Drying entree dish\n",
      "Drying dessert dish\n"
     ]
    }
   ],
   "source": [
    "#프로세스 이용한 예제\n",
    "import multiprocessing as mp\n",
    "\n",
    "def washer(dishes, output): #한 대의 식기세척기 / 첫째인자 : 리스트, 둘쨰:큐\n",
    "    for dish in dishes:\n",
    "        print('Washing', dish, 'dish')\n",
    "        output.put(dish) #결과는 output이라는 출력 큐에 전달(put이 전달 역할)\n",
    "        \n",
    "def dryer(input): #여러 대의 건조기\n",
    "    while True:\n",
    "        dish = input.get()\n",
    "        print('Drying', dish, 'dish')\n",
    "        input.task_done()\n",
    "        \n",
    "dish_queue = mp.JoinableQueue() #큐 지정\n",
    "dryer_proc = mp.Process(target = dryer, args = (dish_queue,)) #dryer함수 병력처리\n",
    "dryer_proc.daemon = True #스크립트가 끝날 때 모든 서브프로세스를 죽임\n",
    "dryer_proc.start() #프로세스 시작\n",
    "\n",
    "dishes = ['salad', 'bread', 'entree', 'dessert']\n",
    "washer(dishes, dish_queue)\n",
    "dish_queue.join() #프로세스 닫기\n"
   ]
  },
  {
   "cell_type": "code",
   "execution_count": 8,
   "metadata": {},
   "outputs": [
    {
     "name": "stdout",
     "output_type": "stream",
     "text": [
      "Thread <_MainThread(MainThread, started 139739806988032)> says: I'm the main program\n",
      "Thread <Thread(Thread-20, started 139739218822912)> says: I'm function 0\n",
      "Thread <Thread(Thread-21, started 139739210430208)> says: I'm function 1\n",
      "Thread <Thread(Thread-22, started 139739218822912)> says: I'm function 2\n",
      "Thread <Thread(Thread-23, started 139739210430208)> says: I'm function 3\n"
     ]
    }
   ],
   "source": [
    "#스레드 이용한 예제\n",
    "import threading\n",
    "\n",
    "def do_this(what):\n",
    "    whoami(what)\n",
    "    \n",
    "def whoami(what):\n",
    "    print(\"Thread %s says: %s\"% (threading.current_thread(), what))\n",
    "    \n",
    "if __name__ == \"__main__\":\n",
    "    whoami(\"I'm the main program\")\n",
    "    for n in range(4):\n",
    "        p = threading.Thread(target = do_this, \n",
    "                             args = (\"I'm function %s\"%n,))\n",
    "        p.start()"
   ]
  },
  {
   "cell_type": "code",
   "execution_count": 16,
   "metadata": {},
   "outputs": [
    {
     "name": "stdout",
     "output_type": "stream",
     "text": [
      "Washing salad\n",
      "Washing breadDrying\n",
      " salad\n",
      "WashingDrying  breadentree\n",
      "\n",
      "Washing dessert\n",
      "Drying entree\n",
      "Drying dessert\n"
     ]
    }
   ],
   "source": [
    "import threading, queue\n",
    "import time\n",
    "\n",
    "def washer(dishes, dish_queue):\n",
    "    for dish in dishes:\n",
    "        print(\"Washing\", dish)\n",
    "        time.sleep(5)\n",
    "        dish_queue.put(dish)\n",
    "        \n",
    "def dryer(dish_queue):\n",
    "    while True:\n",
    "        dish = dish_queue.get()\n",
    "        print(\"Drying\", dish)\n",
    "        time.sleep(10)\n",
    "        dish_queue.task_done()\n",
    "        \n",
    "dish_queue = queue.Queue()\n",
    "for n in range(2):\n",
    "    dryer_thread = threading.Thread(target = dryer,\n",
    "                                   args = (dish_queue,))\n",
    "    dryer_thread.start()\n",
    "    \n",
    "dishes = ['salad', 'bread', 'entree', 'dessert']\n",
    "washer(dishes, dish_queue)\n",
    "dish_queue.join()"
   ]
  },
  {
   "cell_type": "code",
   "execution_count": 14,
   "metadata": {},
   "outputs": [
    {
     "name": "stdout",
     "output_type": "stream",
     "text": [
      "66.6.44.4\n",
      "172.217.25.115\n",
      "None\n"
     ]
    }
   ],
   "source": [
    "#socket사용 예제\n",
    "import gevent\n",
    "from gevent import socket\n",
    "\n",
    "hosts = ['www.crappytaxidermy.com', 'www.walterpottertaxidermy.com',\n",
    "        'www.antique-taxidermy.com']\n",
    "jobs = [gevent.spawn(gevent.socket.gethostbyname, host) for host in hosts]\n",
    "gevent.joinall(jobs, timeout = 5)\n",
    "for job in jobs:\n",
    "    print(job.value)"
   ]
  },
  {
   "cell_type": "code",
   "execution_count": 16,
   "metadata": {},
   "outputs": [
    {
     "name": "stdout",
     "output_type": "stream",
     "text": [
      "66.6.44.4\n",
      "172.217.25.211\n",
      "None\n"
     ]
    }
   ],
   "source": [
    "#monkey-patch 예제\n",
    "import gevent\n",
    "from gevent import socket\n",
    "from gevent import monkey\n",
    "monkey.patch_all() # gevent의 영향을 가능한 많이 받아서 속도 향상 되도록함\n",
    "\n",
    "hosts = ['www.crappytaxidermy.com', 'www.walterpottertaxidermy.com',\n",
    "        'www.antique-taxidermy.com']\n",
    "jobs = [gevent.spawn(gevent.socket.gethostbyname, host) for host in hosts]\n",
    "gevent.joinall(jobs, timeout = 5)\n",
    "for job in jobs:\n",
    "    print(job.value)"
   ]
  },
  {
   "cell_type": "code",
   "execution_count": 10,
   "metadata": {},
   "outputs": [
    {
     "name": "stdout",
     "output_type": "stream",
     "text": [
      "Washer is starting\n",
      "Washed salad\n",
      "Washed bread\n",
      "Washed entree\n",
      "Washed dessert\n",
      "Washer is done\n"
     ]
    }
   ],
   "source": [
    "#redis_washer.py\n",
    "import redis\n",
    "conn = redis.Redis()\n",
    "print('Washer is starting')\n",
    "dishes = ['salad', 'bread', 'entree', 'dessert']\n",
    "for dish in dishes :\n",
    "    msg = dish.encode('utf-8')\n",
    "    conn.rpush('dishes', msg)\n",
    "    print('Washed', dish)\n",
    "\n",
    "conn.rpush('dishes', 'quit')\n",
    "print('Washer is done')\n"
   ]
  },
  {
   "cell_type": "code",
   "execution_count": 15,
   "metadata": {},
   "outputs": [
    {
     "name": "stdout",
     "output_type": "stream",
     "text": [
      "Dryer is starting\n",
      "Dried bread\n",
      "Dishes are dried\n"
     ]
    }
   ],
   "source": [
    "#redis_dryer.py\n",
    "import redis\n",
    "conn = redis.Redis()\n",
    "\n",
    "print('Dryer is starting')\n",
    "while True:\n",
    "    msg = conn.blpop('dishes')\n",
    "    if not msg:\n",
    "        break\n",
    "    val = msg[1].decode('utf-8')\n",
    "    if val == 'quit':\n",
    "        break\n",
    "    print('Dried', val)\n",
    "print('Dishes are dried')\n"
   ]
  },
  {
   "cell_type": "code",
   "execution_count": null,
   "metadata": {
    "collapsed": true
   },
   "outputs": [],
   "source": [
    "#redis_dryer2.py\n",
    "def dryer():\n",
    "    import redis\n",
    "    import os\n",
    "    import time\n",
    "    conn = redis.Redis()\n",
    "    pid = os.getpid()\n",
    "    timeout = 20\n",
    "    print('Dryer process %s is starting'%pid)\n",
    "\n",
    "    while True:\n",
    "        msg = conn.blpop('dishes', timeout)\n",
    "        if not msg:\n",
    "            break\n",
    "        val = msg[1].decode('utf-8')\n",
    "        if val == 'quit':\n",
    "            break\n",
    "        print('%s: dried %s' % (pid, val))\n",
    "        time.sleep(0.1)\n",
    "    print('Dryer process %s is done' %pid)\n",
    "\n",
    "import multiprocessing\n",
    "DRYERS = 3\n",
    "for num in range(DRYERS):\n",
    "    p = multiprocessing.Process(target = dryer)\n",
    "    p.start()\n",
    "\n"
   ]
  },
  {
   "cell_type": "code",
   "execution_count": null,
   "metadata": {
    "collapsed": true
   },
   "outputs": [],
   "source": []
  }
 ],
 "metadata": {
  "kernelspec": {
   "display_name": "Python 3",
   "language": "python",
   "name": "python3"
  },
  "language_info": {
   "codemirror_mode": {
    "name": "ipython",
    "version": 3
   },
   "file_extension": ".py",
   "mimetype": "text/x-python",
   "name": "python",
   "nbconvert_exporter": "python",
   "pygments_lexer": "ipython3",
   "version": "3.6.1"
  }
 },
 "nbformat": 4,
 "nbformat_minor": 2
}
