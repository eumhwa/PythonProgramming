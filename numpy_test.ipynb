{
 "cells": [
  {
   "cell_type": "code",
   "execution_count": 1,
   "metadata": {},
   "outputs": [
    {
     "name": "stdout",
     "output_type": "stream",
     "text": [
      "[3 5 7 9]\n",
      "[ 2.   2.3  2.6  2.9  3.2  3.5  3.8  4.1  4.4  4.7  5.   5.3  5.6  5.9  6.2\n",
      "  6.5  6.8  7.1  7.4  7.7  8.   8.3  8.6  8.9  9.2  9.5  9.8]\n"
     ]
    }
   ],
   "source": [
    "import numpy as np\n",
    "a = np.arange(10)\n",
    "a.ndim\n",
    "a.size\n",
    "a.shape\n",
    "a2 = np.arange(3,11,2)\n",
    "print(a2)\n",
    "a3 = np.arange(2.0, 9.8, 0.3, dtype = np.float)\n",
    "print(a3)"
   ]
  },
  {
   "cell_type": "code",
   "execution_count": 9,
   "metadata": {},
   "outputs": [
    {
     "name": "stdout",
     "output_type": "stream",
     "text": [
      "[ 0.  0.  0.]\n",
      "[[ 0.  0.  0.  0.]\n",
      " [ 0.  0.  0.  0.]]\n",
      "[ 0.25828491  0.8594841   0.40261928]\n"
     ]
    }
   ],
   "source": [
    "#zeros\n",
    "a = np.zeros((3,))\n",
    "b = np.zeros((2,4))\n",
    "\n",
    "print(a)\n",
    "print(b)\n",
    "\n",
    "#ones()\n",
    "a = np.ones((3,))\n",
    "b = np.ones((3,5))\n",
    "\n",
    "#random()\n",
    "m = np.random.random(3)\n",
    "print(m)"
   ]
  },
  {
   "cell_type": "code",
   "execution_count": 16,
   "metadata": {},
   "outputs": [
    {
     "name": "stdout",
     "output_type": "stream",
     "text": [
      "[0 1 2 3 4 5 6 7 8 9]\n",
      "[[0 1 2 3 4]\n",
      " [5 6 7 8 9]]\n"
     ]
    },
    {
     "data": {
      "text/plain": [
       "7"
      ]
     },
     "execution_count": 16,
     "metadata": {},
     "output_type": "execute_result"
    }
   ],
   "source": [
    "#reshape\n",
    "a = np.arange(10)\n",
    "a\n",
    "a.shape\n",
    "print(a)\n",
    "a = a.reshape(2,5)\n",
    "print(a)\n",
    "a[1,2]"
   ]
  },
  {
   "cell_type": "code",
   "execution_count": 20,
   "metadata": {},
   "outputs": [
    {
     "data": {
      "text/plain": [
       "array([ 20.,  13.])"
      ]
     },
     "execution_count": 20,
     "metadata": {},
     "output_type": "execute_result"
    }
   ],
   "source": [
    "coef = np.array([[4,5], [1,2]])\n",
    "rhs = np.array([20,13])\n",
    "ans = np.linalg.solve(coef, rhs)\n",
    "ans\n",
    "np.dot(coef, ans)"
   ]
  },
  {
   "cell_type": "code",
   "execution_count": 23,
   "metadata": {},
   "outputs": [
    {
     "data": {
      "text/plain": [
       "<matplotlib.figure.Figure at 0x7f92d006e630>"
      ]
     },
     "metadata": {},
     "output_type": "display_data"
    },
    {
     "data": {
      "image/png": "[encoded data removed]",
      "text/plain": [
       "<matplotlib.figure.Figure at 0x7f92b315ce48>"
      ]
     },
     "metadata": {},
     "output_type": "display_data"
    }
   ],
   "source": [
    "x = linspace(0.5,10)\n",
    "y = x**2\n",
    "\n",
    "from pylab import *\n",
    "figure()\n",
    "plot(x,y,'r') #red\n",
    "xlabel('x') \n",
    "ylabel('y')\n",
    "title('title')\n",
    "show()"
   ]
  },
  {
   "cell_type": "code",
   "execution_count": null,
   "metadata": {
    "collapsed": true
   },
   "outputs": [],
   "source": []
  }
 ],
 "metadata": {
  "kernelspec": {
   "display_name": "Python 3",
   "language": "python",
   "name": "python3"
  },
  "language_info": {
   "codemirror_mode": {
    "name": "ipython",
    "version": 3
   },
   "file_extension": ".py",
   "mimetype": "text/x-python",
   "name": "python",
   "nbconvert_exporter": "python",
   "pygments_lexer": "ipython3",
   "version": "3.6.1"
  }
 },
 "nbformat": 4,
 "nbformat_minor": 2
}
