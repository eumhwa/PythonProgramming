{
 "cells": [
  {
   "cell_type": "code",
   "execution_count": 4,
   "metadata": {},
   "outputs": [
    {
     "name": "stdout",
     "output_type": "stream",
     "text": [
      "The mighty hunter : Elmer Fudd\n"
     ]
    }
   ],
   "source": [
    "#6.1객체\n",
    "#파이썬의 모든 것은 객체\n",
    "#숫자, 문자열, 모듈, 함수, 클래스 까지 모든 것을 포함한다\n",
    "#각자 다른값을 가진 속성의 객체를 동시에 여러 개 생성할 수 있다.\n",
    "\n",
    "#6.2클래스\n",
    "#객체 : 박스 = 클래스 : 박스 만드는 틀\n",
    "#객체를 만드는 타입을 class를 정의하여 사용한다\n",
    "#동일한 클래스에 의해 생성된 객체들은 서로에게 영향을 주지 않는다.\n",
    "\n",
    "#생성자 : 클래스의 정의로부터 객체를 초기화\n",
    "#        첫번쨰 매개변수는 self여야 한다.(일반적)\n",
    "class Person():\n",
    "    def __init__(self): #생성자(객체 초기화 메서드)\n",
    "        pass            #빈클래스를 의미\n",
    "\n",
    "class Person():\n",
    "    def __init__(self, name):   #name 매개변수를 초기화 메서드에 추가\n",
    "        self.name = name\n",
    "\n",
    "hunter = Person('Elmer Fudd')\n",
    "print('The mighty hunter :', hunter.name)\n",
    "\n",
    "\n",
    "#객체와 인스턴스의 차이\n",
    "#클래스에 의해 만들어진 객체를 인스턴스라고 한다.\n",
    "#인스턴스라는 말은 특정 객체가 어떤 클래스의 객체인지 관계 위주로 설명할 때 사용된다.\n"
   ]
  },
  {
   "cell_type": "code",
   "execution_count": 7,
   "metadata": {},
   "outputs": [
    {
     "name": "stdout",
     "output_type": "stream",
     "text": [
      "I'm a Car!\n",
      "I'm a Car!\n"
     ]
    }
   ],
   "source": [
    "#6.3 상속\n",
    "#코드를 재사용하는 아주 좋은 방법\n",
    "#필요한 것만 추가/변경하여 새 클래스를 정의\n",
    "#기존 클래스 = 부모 클래스, 슈퍼 클래스, 베이스 클래스\n",
    "#새 클래스 = 자식 클래스, 서브 클래스, 파생된 클래스\n",
    "\n",
    "#Car class정의\n",
    "class Car():\n",
    "    pass\n",
    "\n",
    "#Car의 sub class Yugo 정의\n",
    "class Yugo(Car):\n",
    "    pass\n",
    "\n",
    "#각 클래스로부터 객체 생성\n",
    "give_me_a_car = Car()\n",
    "give_me_a_yugo = Yugo()\n",
    "\n",
    "\n",
    "#실제로 기능이 있는 클래스로 재구현\n",
    "class Car():\n",
    "    def exclaim(self):\n",
    "        print(\"I'm a Car!\")\n",
    "\n",
    "class Yugo(Car):\n",
    "    pass\n",
    "\n",
    "give_me_a_car = Car()\n",
    "give_me_a_yugo = Yugo()\n",
    "give_me_a_car.exclaim() #i'm a car!\n",
    "give_me_a_yugo.exclaim() #부모 클래스의 exclaim함수 사용가능(상속)\n"
   ]
  },
  {
   "cell_type": "code",
   "execution_count": 8,
   "metadata": {},
   "outputs": [
    {
     "name": "stdout",
     "output_type": "stream",
     "text": [
      "I'm a Car!\n",
      "I'm a Yugo! Much like a Car, but more Yugo-ish.\n",
      "Fudd\n",
      "doctorFudd\n",
      "FuddEsquire\n"
     ]
    }
   ],
   "source": [
    "#6.4 메서드 오버라이드\n",
    "\n",
    "class Car():\n",
    "    def exclaim(self):\n",
    "        print(\"I'm a Car!\")\n",
    "\n",
    "class Yugo(Car):\n",
    "    def exclaim(self):\n",
    "        print(\"I'm a Yugo! Much like a Car, but more Yugo-ish.\")\n",
    "\n",
    "give_me_a_car = Car()\n",
    "give_me_a_yugo = Yugo()\n",
    "\n",
    "give_me_a_car.exclaim()\n",
    "give_me_a_yugo.exclaim() #오버라이드\n",
    "\n",
    "#생성자 오버라이딩\n",
    "class Person():\n",
    "    def __init__(self, name):\n",
    "        self.name = name\n",
    "        \n",
    "class MDPerson(Person):\n",
    "    def __init__(self, name):\n",
    "        self.name = \"doctor\"+name\n",
    "\n",
    "class JDPerson(Person):\n",
    "    def __init__(self, name):\n",
    "        self.name = name + \"Esquire\"\n",
    "        \n",
    "person = Person('Fudd')\n",
    "doctor = MDPerson('Fudd')\n",
    "lawyer = JDPerson('Fudd')\n",
    "\n",
    "print(person.name)\n",
    "print(doctor.name)\n",
    "print(lawyer.name)\n",
    "\n"
   ]
  },
  {
   "cell_type": "code",
   "execution_count": 9,
   "metadata": {},
   "outputs": [
    {
     "name": "stdout",
     "output_type": "stream",
     "text": [
      "A little help here?\n"
     ]
    }
   ],
   "source": [
    "#6.5 메서드 추가하기\n",
    "#자식 클래스는 부모클래스에 없는 메서드를 추가할 수 있다.\n",
    "class Car():\n",
    "    def exclaim(self):\n",
    "        print(\"I'm a Car!\")\n",
    "\n",
    "class Yugo():\n",
    "    def exclaim(self):\n",
    "        print(\"I'm a Yugo! Much like ~~~\")\n",
    "    def need_a_push(self):\n",
    "        print(\"A little help here?\")\n",
    "        \n",
    "give_me_a_car = Car()\n",
    "give_me_a_yugo = Yugo()\n",
    "\n",
    "give_me_a_yugo.need_a_push()\n",
    "#당연히 부모클래스 Car는 need_a_push를 사용할 수 없다"
   ]
  },
  {
   "cell_type": "code",
   "execution_count": 12,
   "metadata": {},
   "outputs": [
    {
     "data": {
      "text/plain": [
       "'bob@frapples.com'"
      ]
     },
     "execution_count": 12,
     "metadata": {},
     "output_type": "execute_result"
    }
   ],
   "source": [
    "#6.6 부모에게 도움받기 :super\n",
    "#자식 클래스에서 부모 클래스의 메서드를 호출하고 싶을 때 : super() 메서드 사용\n",
    "\n",
    "class Person():\n",
    "    def __init__(self,name):\n",
    "        self.name = name\n",
    "\n",
    "class EmailPerson(Person):\n",
    "    def __init__(self, name, email):\n",
    "        super().__init__(name)\n",
    "        self.email = email\n",
    "        \n",
    "bob = EmailPerson('Bob Frapples', 'bob@frapples.com')\n",
    "bob.name\n",
    "bob.email\n",
    "\n",
    "#class EamilPerson(Person):\n",
    "#    def __init__(self, name, email):\n",
    "#        self.name = name\n",
    "#        self.email = email\n",
    "#이같이도 정의가 가능하지만, 상속을 사용할 수 없게 된다\n",
    "#나중에 person의 정의가 바뀌면 이를 상속받은 EamilPerson역시 속성과 메서드에 변경사항이 반영될 수 있따\n",
    "\n",
    "\n",
    "\n"
   ]
  },
  {
   "cell_type": "code",
   "execution_count": 13,
   "metadata": {},
   "outputs": [
    {
     "name": "stdout",
     "output_type": "stream",
     "text": [
      "I'm a Car!\n"
     ]
    }
   ],
   "source": [
    "#6.7 자신 :self\n",
    "class Car():\n",
    "    def exclaim(self):\n",
    "        print(\"I'm a Car!\")\n",
    "        \n",
    "car = Car()\n",
    "car.exclaim()\n",
    "\n",
    "#파이썬이 은밀하게 처리하는일\n",
    "#1)car 객체의 Car클래스를 찾는다\n",
    "#2)car 객체를 Car클래스의 exclaim()메서드의 self 매개변수에 전달한다"
   ]
  },
  {
   "cell_type": "code",
   "execution_count": 19,
   "metadata": {},
   "outputs": [
    {
     "name": "stdout",
     "output_type": "stream",
     "text": [
      "inside the getter\n",
      "Howard\n",
      "inside the setter\n",
      "inside the getter\n",
      "inside the setter\n",
      "inside the getter\n"
     ]
    },
    {
     "data": {
      "text/plain": [
       "'Daffy'"
      ]
     },
     "execution_count": 19,
     "metadata": {},
     "output_type": "execute_result"
    }
   ],
   "source": [
    "#6.8 get/set 속성값과 프로퍼티\n",
    "#파이썬은 모든 속성과 메서드가 public이어서  getter/setter메서드가 필요없다\n",
    "#파이써닉하게 property 사용할 수 있다\n",
    "\n",
    "class Duck():\n",
    "    def __init__(self, input_name):\n",
    "        self.hidden_name = input_name\n",
    "\n",
    "    def get_name(self):\n",
    "        print('inside the getter')\n",
    "        return self.hidden_name\n",
    "    \n",
    "    def set_name(self, input_name):\n",
    "        print('inside the setter')\n",
    "        self.hidden_name = input_name\n",
    "    \n",
    "    name = property(get_name, set_name)\n",
    "    \n",
    "fowl = Duck('Howard') # input_name만 해줬으니 get_name()이 호출되서 인풋값 리턴까지 해줌\n",
    "print(fowl.name)  \n",
    "\n",
    "fowl.name = 'Daffy' #name 속성에 값을 할당하면 set_name()이 호출된다\n",
    "fowl.name\n",
    "\n",
    "fowl.set_name('Daffy')\n",
    "fowl.name"
   ]
  },
  {
   "cell_type": "code",
   "execution_count": 21,
   "metadata": {},
   "outputs": [
    {
     "name": "stdout",
     "output_type": "stream",
     "text": [
      "inside the getter\n",
      "inside the setter\n",
      "inside the getter\n"
     ]
    },
    {
     "data": {
      "text/plain": [
       "'Donald'"
      ]
     },
     "execution_count": 21,
     "metadata": {},
     "output_type": "execute_result"
    }
   ],
   "source": [
    "#프로퍼티를 정의하는 또다른 방법 : 데커레이터\n",
    "#getter 메서드 앞에 @property 데커레이터를 쓴다\n",
    "#setter 메서드 앞에 @name.setter 데커레이터를 쓴다\n",
    "\n",
    "class Duck():\n",
    "    def __init__(self, input_name):\n",
    "        self.hidden_name = input_name\n",
    "    @property\n",
    "    def name(self):\n",
    "        print('inside the getter')\n",
    "        return self.hidden_name\n",
    "    @name.setter\n",
    "    def name(self, input_name):\n",
    "        print('inside the setter')\n",
    "        self.hidden_name = input_name\n",
    "        \n",
    "fowl = Duck('Howard')\n",
    "fowl.name\n",
    "\n",
    "fowl.name = 'Donald'\n",
    "fowl.name"
   ]
  },
  {
   "cell_type": "code",
   "execution_count": null,
   "metadata": {
    "collapsed": true
   },
   "outputs": [],
   "source": [
    "#6.9 private 네임 맹글링"
   ]
  },
  {
   "cell_type": "code",
   "execution_count": null,
   "metadata": {
    "collapsed": true
   },
   "outputs": [],
   "source": [
    "#6.10 메서드 타입"
   ]
  },
  {
   "cell_type": "code",
   "execution_count": null,
   "metadata": {
    "collapsed": true
   },
   "outputs": [],
   "source": [
    "#6.11 덕 타이핑"
   ]
  },
  {
   "cell_type": "code",
   "execution_count": 4,
   "metadata": {
    "collapsed": true
   },
   "outputs": [],
   "source": [
    "class NumBox:\n",
    "    def __init__(self,num):\n",
    "        self.Num = num\n",
    "    def __add__(self, num):\n",
    "        self.Num += num\n",
    "    def __radd__(self, num):\n",
    "        self.Num +=num\n",
    "        \n",
    "        \n",
    "n = NumBox(100)\n"
   ]
  }
 ],
 "metadata": {
  "kernelspec": {
   "display_name": "Python 3",
   "language": "python",
   "name": "python3"
  },
  "language_info": {
   "codemirror_mode": {
    "name": "ipython",
    "version": 3
   },
   "file_extension": ".py",
   "mimetype": "text/x-python",
   "name": "python",
   "nbconvert_exporter": "python",
   "pygments_lexer": "ipython3",
   "version": "3.6.1"
  }
 },
 "nbformat": 4,
 "nbformat_minor": 2
}
