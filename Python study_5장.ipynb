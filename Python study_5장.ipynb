{
 "cells": [
  {
   "cell_type": "code",
   "execution_count": 2,
   "metadata": {},
   "outputs": [
    {
     "name": "stdout",
     "output_type": "stream",
     "text": [
      "This standalone program works!\n",
      "Program arguments: ['/home/eumhwa/anaconda3/lib/python3.6/site-packages/ipykernel_launcher.py', '-f', '/run/user/1000/jupyter/kernel-1cbfb5a2-139d-4e0e-9603-3ed3d8a96003.json']\n"
     ]
    }
   ],
   "source": [
    "###5.파이 포장하기 :모듈, 패키지, 프로그램\n",
    "#5.1 스탠드얼론 프로그램\n",
    "\n",
    "print(\"This standalone program works!\")\n",
    "\n",
    "#5.2 커맨드 라인 인자\n",
    "import sys\n",
    "print('Program arguments:',sys.argv)\n",
    "\n",
    "#5.3 모듈과 import문\n",
    "#단어:데이터 타입// 문장:선언문// 단락:함수// 장:모듈\n",
    "#import문을 사용하여 다른 모듈의 코드를 참조 -> 임포트한 모듈의 코드와 변수를 프로그램에서 사용할 수 있게 만들어준다,\n",
    "\n"
   ]
  },
  {
   "cell_type": "code",
   "execution_count": 18,
   "metadata": {},
   "outputs": [
    {
     "name": "stdout",
     "output_type": "stream",
     "text": [
      "Today's weather: sun\n",
      "Today's weather: sleet\n"
     ]
    }
   ],
   "source": [
    "#5.3.1 모듈 임포트하기\n",
    "#report.py\n",
    "def get_description():\n",
    "    \"\"\"Return random weather, just like the pors\"\"\"\n",
    "    from random import choice #random 모듈로 부터 choice 함수를 임포트\n",
    "    possibilities = ['rain', 'snow', 'sleet', 'fog', 'sun','who knows']\n",
    "    return choice(possibilities)\n",
    "\n",
    "\n",
    "#weatherman.py\n",
    "#import report                  #report 모듈(report.py)를 임포트해서 get_description()함수 이용\n",
    "\n",
    "description = get_description() #description = report.get_description() #파이참에서 적합한 예제\n",
    "print(\"Today's weather:\", description)\n",
    "\n",
    "\n",
    "#weatherman.py에서는 report.py전체를 임포트한 후 get_description()을 이용\n",
    "#이 경우 report.py에 있는 모든 객체는 이름앞에 report. 을 붙여 메인프로그램에서 사용가능\n",
    "\n",
    "#report.py에서는 random.py모듈로부터 choice()를 바로 임포트 \n",
    "#아래와 같이도 작성가능\n",
    "#report2.py\n",
    "def get_description2():\n",
    "    import random\n",
    "    possibilities = ['rain', 'snow', 'sleet', 'fog', 'sun','who knows']\n",
    "    return random.choice(possibilities)\n",
    "\n",
    "description2 = get_description2()\n",
    "print(\"Today's weather:\", description2)\n"
   ]
  },
  {
   "cell_type": "code",
   "execution_count": 19,
   "metadata": {},
   "outputs": [
    {
     "ename": "ModuleNotFoundError",
     "evalue": "No module named 'report'",
     "output_type": "error",
     "traceback": [
      "\u001b[0;31m---------------------------------------------------------------------------\u001b[0m",
      "\u001b[0;31mModuleNotFoundError\u001b[0m                       Traceback (most recent call last)",
      "\u001b[0;32m<ipython-input-19-b59efaa31cb6>\u001b[0m in \u001b[0;36m<module>\u001b[0;34m()\u001b[0m\n\u001b[1;32m      1\u001b[0m \u001b[0;31m#5.3.2 다른 이름으로 모듈 임포트하기 : alias\u001b[0m\u001b[0;34m\u001b[0m\u001b[0;34m\u001b[0m\u001b[0m\n\u001b[0;32m----> 2\u001b[0;31m \u001b[0;32mimport\u001b[0m \u001b[0mreport\u001b[0m \u001b[0;32mas\u001b[0m \u001b[0mwr\u001b[0m\u001b[0;34m\u001b[0m\u001b[0m\n\u001b[0m\u001b[1;32m      3\u001b[0m \u001b[0mdescription\u001b[0m \u001b[0;34m=\u001b[0m \u001b[0mwr\u001b[0m\u001b[0;34m.\u001b[0m\u001b[0mget_description\u001b[0m\u001b[0;34m(\u001b[0m\u001b[0;34m)\u001b[0m\u001b[0;34m\u001b[0m\u001b[0m\n",
      "\u001b[0;31mModuleNotFoundError\u001b[0m: No module named 'report'"
     ]
    }
   ],
   "source": [
    "#5.3.2 다른 이름으로 모듈 임포트하기 : alias\n",
    "import report as wr\n",
    "description = wr.get_description()"
   ]
  },
  {
   "cell_type": "code",
   "execution_count": null,
   "metadata": {
    "collapsed": true
   },
   "outputs": [],
   "source": [
    "#5.3.3 필요한 모듈만 임포트하기\n",
    "#report모듈의 get_description()을 임포트해라\n",
    "from report import get_description\n",
    "description = get_description()\n",
    "print(\"weather is:\",description)\n",
    "\n",
    "#do_it으로 alias 설정\n",
    "from report import get_description as do_it\n",
    "description = do_it()\n",
    "print(\"weather is:\",description)"
   ]
  },
  {
   "cell_type": "code",
   "execution_count": 20,
   "metadata": {},
   "outputs": [
    {
     "name": "stdout",
     "output_type": "stream",
     "text": [
      "\n",
      "/home/eumhwa/anaconda3/lib/python36.zip\n",
      "/home/eumhwa/anaconda3/lib/python3.6\n",
      "/home/eumhwa/anaconda3/lib/python3.6/lib-dynload\n",
      "/home/eumhwa/anaconda3/lib/python3.6/site-packages\n",
      "/home/eumhwa/anaconda3/lib/python3.6/site-packages/Sphinx-1.5.6-py3.6.egg\n",
      "/home/eumhwa/anaconda3/lib/python3.6/site-packages/setuptools-27.2.0-py3.6.egg\n",
      "/home/eumhwa/anaconda3/lib/python3.6/site-packages/IPython/extensions\n",
      "/home/eumhwa/.ipython\n"
     ]
    }
   ],
   "source": [
    "#5.3.4모듈 검색경로\n",
    "import sys\n",
    "for place in sys.path:\n",
    "    print(place)\n"
   ]
  },
  {
   "cell_type": "code",
   "execution_count": 22,
   "metadata": {},
   "outputs": [
    {
     "ename": "ModuleNotFoundError",
     "evalue": "No module named 'sources'",
     "output_type": "error",
     "traceback": [
      "\u001b[0;31m---------------------------------------------------------------------------\u001b[0m",
      "\u001b[0;31mModuleNotFoundError\u001b[0m                       Traceback (most recent call last)",
      "\u001b[0;32m<ipython-input-22-efe400e11f76>\u001b[0m in \u001b[0;36m<module>\u001b[0;34m()\u001b[0m\n\u001b[1;32m      3\u001b[0m \u001b[0;34m\u001b[0m\u001b[0m\n\u001b[1;32m      4\u001b[0m \u001b[0;31m#메인프로그램(boxes.weather.py)\u001b[0m\u001b[0;34m\u001b[0m\u001b[0;34m\u001b[0m\u001b[0m\n\u001b[0;32m----> 5\u001b[0;31m \u001b[0;32mfrom\u001b[0m \u001b[0msources\u001b[0m \u001b[0;32mimport\u001b[0m \u001b[0mdaily\u001b[0m\u001b[0;34m,\u001b[0m \u001b[0mweekly\u001b[0m\u001b[0;34m\u001b[0m\u001b[0m\n\u001b[0m\u001b[1;32m      6\u001b[0m \u001b[0;34m\u001b[0m\u001b[0m\n\u001b[1;32m      7\u001b[0m \u001b[0mprint\u001b[0m\u001b[0;34m(\u001b[0m\u001b[0;34m\"Daily forecast:\"\u001b[0m\u001b[0;34m,\u001b[0m \u001b[0mdaily\u001b[0m\u001b[0;34m.\u001b[0m\u001b[0mforecast\u001b[0m\u001b[0;34m(\u001b[0m\u001b[0;34m)\u001b[0m\u001b[0;34m)\u001b[0m\u001b[0;34m\u001b[0m\u001b[0m\n",
      "\u001b[0;31mModuleNotFoundError\u001b[0m: No module named 'sources'"
     ]
    }
   ],
   "source": [
    "#5.4 패키지\n",
    "#파이썬 애플리케이션을 좀 더 확장 가능하게 만들기 위해 모듈을 '패키지'라는 파일 계층구조에 구성할 수 있다.\n",
    "\n",
    "#메인프로그램(boxes.weather.py)\n",
    "from sources import daily, weekly\n",
    "\n",
    "print(\"Daily forecast:\", daily.forecast())\n",
    "print(\"Weekly forecast:\")\n",
    "for number, outlook in enumerate(weekly.forecast(),1):    #리스트와 리스트항목의 시작인덱스를 취함, 리스트항목의 인덱스는 1씩 증가\n",
    "    print(number, outlook)\n",
    "\n",
    "#첫번째모듈(boxes/sources/daily.py\n",
    "def forecast():\n",
    "    'fake daily forecast'\n",
    "    return 'like yeterday'\n",
    "\n",
    "#두번째모듈(boxes/sources/weekly.py)\n",
    "def forecast():\n",
    "    \"\"\"Fake weekly forecast\"\"\"\n",
    "    return ['snow', 'more snow', 'sleet', 'freezing rain', 'rain', 'fog', 'hail']\n",
    "#실행은 파이참에서\n",
    "\n",
    "#sources 디렉토리에 한가지 더 필요한 파일 :__init__.py\n",
    "#--> 파일의 내용은 비워도 되지만, 파이썬은 이 파일을 포함하는 디렉토리를 패키지로 간주.\n",
    "\n"
   ]
  },
  {
   "cell_type": "code",
   "execution_count": 42,
   "metadata": {},
   "outputs": [
    {
     "name": "stdout",
     "output_type": "stream",
     "text": [
      "{'Hydrogen': 1, 'Helium': 2}\n",
      "12\n",
      "{'Hydrogen': 1, 'Helium': 2, 'Carbon': 12}\n",
      "2\n",
      "{'Hydrogen': 1, 'Helium': 2, 'Carbon': 12}\n",
      "defaultdict(<class 'int'>, {'Hydrogen': 1, 'Lead': 0})\n",
      "Abominalble Snowman\n",
      "Basilisk\n",
      "Huh?\n",
      "Huh?\n",
      "spam 3\n",
      "eggs 1\n",
      "spam 3\n",
      "eggs 1\n"
     ]
    }
   ],
   "source": [
    "#5.5 파이썬 표준 라이브러리\n",
    "#파이썬은 유용한 작업을 처리하는 많은 표준 라이브러리 모듈이 있다\n",
    "#이 모듈은 핵심코드가 늘어나는 것을 피하기 위해 분리되어 있다\n",
    "#파이썬 코드를 작성할 때는 원하는 기능이 표준 모듈에 있는지 먼저 확인하는 것이 좋다\n",
    "\n",
    "#5.5.1 누락된 키 처리하기 :setdefault(), defaultdict()\n",
    "#존재하지 않는 키로 딕셔너리에 접근하면 예외발생\n",
    "#get() : 기본값을 반환, 이 함수를 사용하면 예외 피할 수 있다.\n",
    "#setdefault() : get()함수와 같지만, 키가 누락된 경우 딕셔너리에 항목을 할당할 수 있다.\n",
    "periodic_table = {'Hydrogen':1, 'Helium':2}\n",
    "print(periodic_table)\n",
    "\n",
    "carbon = periodic_table.setdefault('Carbon',12)\n",
    "print(carbon)\n",
    "print(periodic_table) #카르본 할당 됨\n",
    "\n",
    "#존재하는 키에 다른 값을 할당하려 하면 키에 원래 값이 반환, 아무것도 안변함\n",
    "helium = periodic_table.setdefault('Helium',947)\n",
    "print(helium)\n",
    "print(periodic_table) #헬륨 안변함\n",
    "\n",
    "\n",
    "#defaultdict() 역시 기능은 비슷, 다른점은 딕셔너리를 생성할 때 모든 새 키에 대한 기본값을 먼저 지정하는 것\n",
    "#이 함수의 인자는 함수\n",
    "from collections import defaultdict\n",
    "periodic_table = defaultdict(int)\n",
    "\n",
    "periodic_table['Hydrogen'] = 1\n",
    "periodic_table['Lead'] #기본값은 0\n",
    "print(periodic_table)\n",
    "\n",
    "def no_idea():\n",
    "    return 'Huh?'\n",
    "bestiary = defaultdict(no_idea)\n",
    "bestiary['A'] = 'Abominalble Snowman'\n",
    "bestiary['B'] = 'Basilisk'\n",
    "print(bestiary['A'])\n",
    "print(bestiary['B'])\n",
    "print(bestiary['C']) #defaultdict()의 인자는 값을 누락된 키에 할당하여 반환하는 함수 \n",
    "                     #누락된 키 'C' 에 인자인 no_idea의 리턴값을 할당\n",
    "\n",
    "#lambda를 사용하여 인자에 기본값을 만드는 함수 정의\n",
    "bestiary = defaultdict(lambda:'Huh?')\n",
    "print(bestiary['E'])\n",
    "\n",
    "#카운터를 만들기 위해 아래와 같이 int 함수를 사용할 수 있다\n",
    "from collections import defaultdict\n",
    "food_counter = defaultdict(int)\n",
    "for food in ['spam', 'spam', 'eggs', 'spam']:\n",
    "    food_counter[food] +=1 #딕셔너리에 오프셋에 해당하는 food가 들어올 때 1씩 더해 카운트한다.\n",
    "\n",
    "for food, count in food_counter.items():    \n",
    "    print(food, count)\n",
    "\n",
    "#food_counter가 defaultdict가 아닌 일반 딕셔너리인 경우(예외 발생 피하기 위해 추가작업 필요)\n",
    "dict_counter = {}\n",
    "for food in ['spam', 'spam', 'eggs' , 'spam']:\n",
    "    if not food in dict_counter:\n",
    "        dict_counter[food] = 0 # defaultdict는 누락된 키값에 대해 초기값 0을 입력하므로 일반 딕셔너리에서는 이 과정이 필요\n",
    "    dict_counter[food] += 1\n",
    "\n",
    "for food, count in dict_counter.items():\n",
    "    print(food, count)"
   ]
  },
  {
   "cell_type": "code",
   "execution_count": 54,
   "metadata": {},
   "outputs": [
    {
     "name": "stdout",
     "output_type": "stream",
     "text": [
      "Counter({'spam': 3, 'eggs': 1})\n",
      "[('spam', 3), ('eggs', 1)]\n",
      "[('spam', 3)]\n",
      "Counter({'eggs': 2, 'bacon': 1})\n"
     ]
    },
    {
     "data": {
      "text/plain": [
       "Counter({'bacon': 1, 'eggs': 2, 'spam': 3})"
      ]
     },
     "execution_count": 54,
     "metadata": {},
     "output_type": "execute_result"
    }
   ],
   "source": [
    "#5.5.2 항목세기 : Counter()\n",
    "from collections import Counter\n",
    "breakfast = ['spam', 'spam', 'eggs', 'spam']\n",
    "breakfast_counter = Counter(breakfast)\n",
    "print(breakfast_counter)\n",
    "\n",
    "#most_common() : 모든 요소를 내림차순으로 반환 or 숫자를 입력하는 경우, 그 숫자만큼 상위요소를 반환\n",
    "print(breakfast_counter.most_common())\n",
    "print(breakfast_counter.most_common(1))\n",
    "\n",
    "#카운터 결합\n",
    "lunch = ['eggs', 'eggs' , 'bacon']\n",
    "lunch_counter = Counter(lunch)\n",
    "print(lunch_counter)\n",
    "\n",
    "breakfast_counter + lunch_counter\n",
    "breakfast_counter - lunch_counter\n",
    "lunch_counter - breakfast_counter #차집합으로 생각하면 된다\n",
    "\n",
    "#인터색션 연산자(&) 이용하여 공통항목 얻기\n",
    "breakfast_counter & lunch_counter\n",
    "\n",
    "#유니온 연산자(|) 이용하여 모든항목 얻기\n",
    "breakfast_counter | lunch_counter\n"
   ]
  },
  {
   "cell_type": "code",
   "execution_count": 61,
   "metadata": {},
   "outputs": [
    {
     "name": "stdout",
     "output_type": "stream",
     "text": [
      "Moe\n",
      "Larry\n",
      "Curly\n",
      "Moe\n",
      "Larry\n",
      "Curly\n"
     ]
    }
   ],
   "source": [
    "#5.5.3 키 정렬하기 :OrderedDict()\n",
    "#기존 방법은 랜덤하기 출력된다\n",
    "quotes = {\n",
    "    'Moe':'A wise guy, huh?',\n",
    "    'Larry':'Ow!',\n",
    "    'Curly':'Nyuk nyuk'\n",
    "    }\n",
    "for stooge in quotes:\n",
    "    print(stooge)\n",
    "    \n",
    "#OrderedDict() 함수는 키의 추가 순서를 기억하고, 이터레이터로부터 순서대로 키값을 반환\n",
    "from collections import OrderedDict\n",
    "quotes = OrderedDict([\n",
    "    ('Moe','A wise guy, huh?'),  # ':' 가 아닌 ','\n",
    "    ('Larry','Ow!'),\n",
    "    ('Curly','Nyuk nyuk')\n",
    "])\n",
    "for stooge in quotes:\n",
    "    print(stooge)"
   ]
  },
  {
   "cell_type": "code",
   "execution_count": 67,
   "metadata": {},
   "outputs": [
    {
     "name": "stdout",
     "output_type": "stream",
     "text": [
      "True\n",
      "True\n",
      "True\n",
      "----------\n",
      "True\n",
      "True\n",
      "----------\n",
      "False\n",
      "True\n",
      "False\n",
      "True\n",
      "False\n",
      "True\n",
      "----------\n"
     ]
    },
    {
     "data": {
      "text/plain": [
       "True"
      ]
     },
     "execution_count": 67,
     "metadata": {},
     "output_type": "execute_result"
    }
   ],
   "source": [
    "#5.5.4 스택+큐 == 데크\n",
    "#데크 : 스택과 큐의 기능을 모두 가진 출입구가 양 끝에 있는 큐\n",
    "#데크는 시퀀스의 양 끝으로부터 항목을 추가하거나 삭제할 때 유용하게 쓰임\n",
    "\n",
    "#회문(palindrome)인지 확인하기 위해 양쪽 끝에서 중간까지 문자를 확인\n",
    "#popleft() : 데크로부터 왼쪽 끝의 항목을 제거한 후, 그 항목 반환\n",
    "#pop()     : 데크로부터 오른쪽 끝의 항목을 제거 후, 그 항목 반환\n",
    "\n",
    "def palindrome(word):\n",
    "    from collections import deque\n",
    "    dq = deque(word)\n",
    "    while len(dq)>1:\n",
    "        if dq.popleft() != dq.pop():\n",
    "            print('False') # 교재에서는 return 사용\n",
    "        print('True')\n",
    "\n",
    "palindrome('racecar')\n",
    "print('----------')\n",
    "palindrome('radar')\n",
    "print('----------')\n",
    "palindrome('halibut')\n",
    "print('----------')\n",
    "\n",
    "\n",
    "#더욱 간단한 코드\n",
    "def another_palindrome(word):\n",
    "    return word == word[::-1]\n",
    "another_palindrome('radar')"
   ]
  },
  {
   "cell_type": "code",
   "execution_count": 8,
   "metadata": {},
   "outputs": [
    {
     "name": "stdout",
     "output_type": "stream",
     "text": [
      "1\n",
      "----------\n",
      "2\n",
      "----------\n",
      "a\n",
      "----------\n",
      "b\n",
      "----------\n",
      "1\n",
      "3\n",
      "6\n",
      "10\n",
      "----------\n",
      "1\n",
      "2\n",
      "6\n",
      "24\n"
     ]
    }
   ],
   "source": [
    "#5.5.5코드 구조 순회하기 : itertools\n",
    "#chain() : 순회 가능한 인자들을 하나씩 반환\n",
    "#cycle() : 인자를 순환하는 무한 이터레이터\n",
    "#accumulate() : 축적된 값을 계산 (기본적으로 합계를 계산)\n",
    "\n",
    "import itertools\n",
    "for item in itertools.chain([1,2],['a','b']):\n",
    "    print(item)\n",
    "    print('----------')\n",
    "    \n",
    "#for item in itertools.cycle([1,2]):\n",
    "#    print(item)\n",
    "\n",
    "for item in itertools.accumulate([1,2,3,4]):\n",
    "    print(item)\n",
    "\n",
    "#accumulate()의 두번째 인자에 함수를 넣어 다른 연산처리가 가능(대신 축적된 계산을 하는 것은 동일(누적합, 누적곱))\n",
    "def multiply(a,b):\n",
    "    return(a*b)\n",
    "\n",
    "print('----------')\n",
    "\n",
    "for item in itertools.accumulate([1,2,3,4], multiply):\n",
    "    print(item)"
   ]
  },
  {
   "cell_type": "code",
   "execution_count": 4,
   "metadata": {},
   "outputs": [
    {
     "name": "stdout",
     "output_type": "stream",
     "text": [
      "OrderedDict([('Moe', 'A wise guy huh?'), ('Larry', 'Ow!'), ('Curly', 'Nyuk nyuk')])\n",
      "OrderedDict([('Moe', 'A wise guy huh?'),\n",
      "             ('Larry', 'Ow!'),\n",
      "             ('Curly', 'Nyuk nyuk')])\n"
     ]
    }
   ],
   "source": [
    "#5.5.6 깔끔하게 출력하기 : pprint()\n",
    "from collections import OrderedDict\n",
    "from pprint import pprint\n",
    "quotes = OrderedDict([\n",
    "    ('Moe', 'A wise guy huh?'),\n",
    "    ('Larry', 'Ow!'),\n",
    "    ('Curly', 'Nyuk nyuk')\n",
    "])\n",
    "\n",
    "print(quotes)\n",
    "pprint(quotes)"
   ]
  },
  {
   "cell_type": "code",
   "execution_count": null,
   "metadata": {
    "collapsed": true
   },
   "outputs": [],
   "source": [
    "#5.6 배터리 장착 : 다른 파이썬 코드 가져오기"
   ]
  }
 ],
 "metadata": {
  "kernelspec": {
   "display_name": "Python 3",
   "language": "python",
   "name": "python3"
  }
 },
 "nbformat": 4,
 "nbformat_minor": 2
}
