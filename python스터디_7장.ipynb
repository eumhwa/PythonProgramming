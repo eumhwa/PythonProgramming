{
 "cells": [
  {
   "cell_type": "code",
   "execution_count": 5,
   "metadata": {},
   "outputs": [
    {
     "name": "stdout",
     "output_type": "stream",
     "text": [
      "value=\"A, name = \"LATIN CAPITAL LETTER A\", value2 = \"A\"\n",
      "value=\"$, name = \"DOLLAR SIGN\", value2 = \"$\"\n",
      "value=\"¢, name = \"CENT SIGN\", value2 = \"¢\"\n",
      "value=\"€, name = \"EURO SIGN\", value2 = \"€\"\n"
     ]
    }
   ],
   "source": [
    "#파이썬에 내장된 데이터타입\n",
    "#1)문자열\n",
    "#2)바이트와 바이트 배열\n",
    "\n",
    "#7.1.1유니코드\n",
    "#전세계 언어의 문자를 정의하기 위한 국제 표준코드\n",
    "#수학 및 기타 분야의 기호들도 포함\n",
    "#파이썬3유니코드 문자열\n",
    " #파이썬3 문자열은 바이트배열이 아닌 유니코드 문자열\n",
    " #\n",
    " #\n",
    " #\n",
    " #\n",
    "    \n",
    "def unicode_test(value):\n",
    "    import unicodedata\n",
    "    name = unicodedata.name(value) #문자의 고유이름\n",
    "    value2 = unicodedata.lookup(name) #문자의 형태\n",
    "    print('value=\"%s, name = \"%s\", value2 = \"%s\"'%(value, name, value2))\n",
    "    \n",
    "unicode_test('A')\n",
    "unicode_test('$')\n",
    "unicode_test('\\u00a2') #cent\n",
    "unicode_test('\\u20ac') #euro\n"
   ]
  },
  {
   "cell_type": "code",
   "execution_count": null,
   "metadata": {
    "collapsed": true
   },
   "outputs": [],
   "source": [
    "#UTF-8 인코딩과 디코딩\n",
    "#인코딩:문자열을 바이트로\n",
    "#디코딩:바이트를 문자열로\n",
    "\n",
    "#메모리 및 디스크 저장공간 이슈로 유니코드보다 UTF-8 이용 권장\n",
    "\n",
    "#인코딩 : 두번째인자~\n",
    "#디코딩 : 인코딩 과정을 거꾸로 하여 바이트 문자열에서 유니코드 문자열을 얻는 과정\n",
    "#        외부소스에서 얻어온 텍스트가 어떻게 인코딩 되었는지 모르기 때문에 문제가 발생\n"
   ]
  },
  {
   "cell_type": "code",
   "execution_count": 24,
   "metadata": {},
   "outputs": [
    {
     "name": "stdout",
     "output_type": "stream",
     "text": [
      "My wife's favorite actor is Richard Gere\n",
      "Our cat Chester weighs 28 pounds\n"
     ]
    },
    {
     "data": {
      "text/plain": [
       "'    42     7.030000 string cheese'"
      ]
     },
     "execution_count": 24,
     "metadata": {},
     "output_type": "execute_result"
    }
   ],
   "source": [
    "#7.1.2 포맷\n",
    "#데이터 값을 문자열에 끼워 넣는 방법, 옛 스타일과 새로운 스타일의 포매팅 문자열이 있다\n",
    "#파이썬 2, 3 모두 지원\n",
    "\n",
    "#옛 스타일 : %\n",
    "#string % data 형식, 문자열 안에 끼워 넣을 데이터를 표시하는 형식을 보간 시퀀스라고 한다\n",
    "\n",
    "#정수 예제\n",
    "'%s'%42 #문자열\n",
    "'%d'%42 #10진 정수\n",
    "'%x'%42 #16진 정수\n",
    "'%o'%42 #8진 정수  \n",
    "\n",
    "#부동소수점 예제\n",
    "\n",
    "#정수와 리터럴 % 예제\n",
    "'%d%%'%100\n",
    "\n",
    "#정수와 문자열 예제\n",
    "actor = 'Richard Gere'\n",
    "cat = 'Chester'\n",
    "weight = 28\n",
    "\n",
    "print(\"My wife's favorite actor is %s\"%actor)\n",
    "print(\"Our cat %s weighs %s pounds\"%(cat,weight))\n",
    "\n",
    "#최소 및 최대 길이 조절과 정렬 및 문자 채우기\n",
    "n = 42 \n",
    "f = 7.03\n",
    "s = 'string cheese'\n",
    "'%d %f %s'%(n,f,s)\n",
    "'%10d %10f %10s'%(n,f,s) #최소 10자의 필드, 우측정렬\n",
    "\n",
    "\n",
    "\n",
    "\n",
    "\n",
    "#새로운 스타일의 포매팅 :{}, format\n",
    "'{}{}{}'.format(n,f,s)\n",
    "'{2}{0}{1}'.format(n,f,s) #순서 지정 가능\n",
    "\n",
    "d = {'n':42, 'f':7.03, 's':'string cheese'}\n",
    "'{0[n]}{0[f]}{0[s]}{1}'.format(d,' other') #인덱스 0은 딕셔너리 전체, 1은 문자열\n",
    "'{0:d}{1:f}{2:s}'.format(n,f,s) # :을 통해서 타입 지정자를 정해준다]\n",
    "\n",
    "\n",
    "#정렬\n",
    "'{0:10d}{1:10f}{2:10s}'.format(n,f,s) # 최소 필드길이 10, 우측정렬\n",
    "'{0:>10d}{1:>10f}{2:>10s}'.format(n,f,s) #'>' : 우측정렬\n",
    "'{0:<10d}{1:<10f}{2:<10s}'.format(n,f,s) #'<' : 좌측정렬\n",
    "'{0:^10d}{1:^10f}{2:^10s}'.format(n,f,s) #'^' : 중앙정렬\n",
    "\n",
    "#새로운 스타일에서 최대자리수 표현은 '정수'에 사용불가\n"
   ]
  },
  {
   "cell_type": "code",
   "execution_count": 43,
   "metadata": {},
   "outputs": [
    {
     "name": "stdout",
     "output_type": "stream",
     "text": [
      "You\n",
      "['n', 'n', 'n', 'n']\n",
      "Found 4 matches\n",
      "['ng', 'nk', 'ns']\n",
      "['You', 'g Fra', 'ke', 'stei', '']\n",
      "You?g Fra?ke?stei?\n"
     ]
    },
    {
     "data": {
      "text/plain": [
       "[' ', '\\t', '\\n', '\\r', '\\x0b', '\\x0c']"
      ]
     },
     "execution_count": 43,
     "metadata": {},
     "output_type": "execute_result"
    }
   ],
   "source": [
    "#7.1.3 정규표현식\n",
    "import re #re 모듈에서 정규표현식 제공\n",
    "\n",
    "#match()의 첫번째 인자는 확인하고 싶은 패턴, 두번째 인자는 확인하고자 하는 문자열\n",
    "result = re.match('You', 'Young Frankenstein')\n",
    "result\n",
    "\n",
    "youpattern = re.compile('You')\n",
    "youpattern\n",
    "\n",
    "#시작부터 일치하는 패턴 찾기 : match()\n",
    "source = 'Young Frankenstein'\n",
    "m = re.match('You', source)\n",
    "if m:\n",
    "    print(m.group())\n",
    "    \n",
    "m2 = re.match('Frank', source)\n",
    "if m2:\n",
    "    print(m2.group()) #반환값 없다\n",
    "    \n",
    "m3 = re.match('Frank', source)\n",
    "if m3:\n",
    "    print(m3.group()) \n",
    "    \n",
    "\n",
    "#serch\n",
    "\n",
    "#일치하는 모든 패턴 찾기 : findall()\n",
    "source = 'Young Frankenstein'\n",
    "m = re.findall('n', source)\n",
    "print(m) #findall 은 리스트를 반환\n",
    "print('Found', len(m), 'matches')\n",
    "\n",
    "m = re.findall('n.', source) #n 다음에 어떤 문자가 오는지 확인\n",
    "print(m) \n",
    "\n",
    "\n",
    "#패턴으로 나누기 : split()\n",
    "source = 'Young Frankenstein'\n",
    "m = re.split('n', source)\n",
    "print(m)\n",
    "\n",
    "#일치하는 패턴 대체하기 : sub()\n",
    "m = re.sub('n','?',source)\n",
    "print(m)\n",
    "\n",
    "\n",
    "#패턴 : 특수문자\n",
    "#정규표현식에는 아주 많은 문장 부호를 사용할 수 있다.\n",
    "\n",
    "\n",
    "import string\n",
    "printable = string.printable #string 모듈에 내장된 테스트 문자열 상수\n",
    "len(printable)\n",
    "printable[0:50] \n",
    "printable[50:]\n",
    "\n",
    "re.findall('\\w', printable) #숫자, 문자, 언더스코어\n",
    "re.findall('\\s', printable) #공백문자\n",
    "\n"
   ]
  },
  {
   "cell_type": "code",
   "execution_count": 54,
   "metadata": {},
   "outputs": [
    {
     "data": {
      "text/plain": [
       "[]"
      ]
     },
     "execution_count": 54,
     "metadata": {},
     "output_type": "execute_result"
    }
   ],
   "source": [
    "#패턴 : 지정자\n",
    "source = '''I wish I may, I wish I might ... Have a dish of fish tonight'''\n",
    "re.findall('wish', source)\n",
    "re.findall('wish|fish',source) #wish or fish \n",
    "re.findall('^wish', source) #소스가 wish로 시작하는지 찾기\n",
    "re.findall('^I wish', source) #소스가 I wish로 시작하는지 찾기\n",
    "\n",
    "re.findall('fish$', source) #소스가 fish로 끝나는 부분 찾기\n",
    "re.findall('fish tonight.$', source) #소스가 fish tonight. 로 끝나는지 찾기\n",
    "\n",
    "re.findall('[wf]ish', source) #w or f 뒤에 ish가 오는 단어\n",
    "re.findall('[wsh]+', source) # w,s,h 가 하나 이상인 단어\n",
    "re.findall('ght\\W', source) #  ght다음에 비 알파벳 문자가 오는단어\n",
    "re.findall('I (?=wish)', source) # wish 이전에 나오는 I\n",
    "re.findall('(?<=I)wish', source) # I 다음에 나오는 wish"
   ]
  },
  {
   "cell_type": "code",
   "execution_count": 60,
   "metadata": {
    "collapsed": true
   },
   "outputs": [],
   "source": [
    "#정규표현식 패턴이 파이선 문자열 규칙과 충돌하는 경우\n",
    "source = '''I wish I may, I wish I might ... Have a dish of fish tonight'''\n",
    "\n",
    "#fish로 시작하는 단어를 찾는 코드를 작성\n",
    "re.findall('\\bfish', source) #파이썬의 이스케이프 문자 \\b(백스페이스) 와 충돌하여 출력값 X\n",
    "\n",
    "#앞에 r을 사용함으로써 이스케이프 문자를 사용하지 않도록 함\n",
    "re.findall(r'\\bfish', source)\n",
    "\n",
    "\n",
    "#패턴 : 매칭결과 저장하기\n",
    "#match()와 search()를 사용할 때 모든 매칭은 m.group()과 같이 객체 m 으로 부터 결과를 반환\n",
    "#만약 패턴을 괄호로 둘러싸는 경우, 매칭은 그 괄호만의 그룹으로 저장되며, m,group()를 사용하여 그룹의 튜플을 출력\n",
    "m = re.search(r'dish\\b.*(\\bfish)', source)\n",
    "\n",
    "#만약 (?P<name>expr)패턴을 사용한다면, 표현식(expr)이 매칭되고\n",
    "#그룹 이름(name)의 매칭 내용이 저장됨\n"
   ]
  },
  {
   "cell_type": "code",
   "execution_count": 64,
   "metadata": {},
   "outputs": [
    {
     "data": {
      "text/plain": [
       "b'\\x00\\x01\\x02\\x03\\x04\\x05\\x06\\x07\\x08\\t\\n\\x0b\\x0c\\r\\x0e\\x0f\\x10\\x11\\x12\\x13\\x14\\x15\\x16\\x17\\x18\\x19\\x1a\\x1b\\x1c\\x1d\\x1e\\x1f !\"#$%&\\'()*+,-./0123456789:;<=>?@ABCDEFGHIJKLMNOPQRSTUVWXYZ[\\\\]^_`abcdefghijklmnopqrstuvwxyz{|}~\\x7f\\x80\\x81\\x82\\x83\\x84\\x85\\x86\\x87\\x88\\x89\\x8a\\x8b\\x8c\\x8d\\x8e\\x8f\\x90\\x91\\x92\\x93\\x94\\x95\\x96\\x97\\x98\\x99\\x9a\\x9b\\x9c\\x9d\\x9e\\x9f\\xa0\\xa1\\xa2\\xa3\\xa4\\xa5\\xa6\\xa7\\xa8\\xa9\\xaa\\xab\\xac\\xad\\xae\\xaf\\xb0\\xb1\\xb2\\xb3\\xb4\\xb5\\xb6\\xb7\\xb8\\xb9\\xba\\xbb\\xbc\\xbd\\xbe\\xbf\\xc0\\xc1\\xc2\\xc3\\xc4\\xc5\\xc6\\xc7\\xc8\\xc9\\xca\\xcb\\xcc\\xcd\\xce\\xcf\\xd0\\xd1\\xd2\\xd3\\xd4\\xd5\\xd6\\xd7\\xd8\\xd9\\xda\\xdb\\xdc\\xdd\\xde\\xdf\\xe0\\xe1\\xe2\\xe3\\xe4\\xe5\\xe6\\xe7\\xe8\\xe9\\xea\\xeb\\xec\\xed\\xee\\xef\\xf0\\xf1\\xf2\\xf3\\xf4\\xf5\\xf6\\xf7\\xf8\\xf9\\xfa\\xfb\\xfc\\xfd\\xfe\\xff'"
      ]
     },
     "execution_count": 64,
     "metadata": {},
     "output_type": "execute_result"
    }
   ],
   "source": [
    "#7.2.1 바이트와 바이트 배열\n",
    "#바이트 : 바이트의 튜플처럼 불변\n",
    "#바이트 배열 : 바이트의 리스트처럼 변경 가능\n",
    "\n",
    "blist = [1,2,3,255]\n",
    "the_bytes = bytes(blist)\n",
    "the_bytes\n",
    "\n",
    "the_byte_array = bytearray(blist)\n",
    "the_byte_array\n",
    "\n",
    "#the_bytes[1] = 127 #에러 (바이트는 불변)\n",
    "\n",
    "\n",
    "#바이트 혹은 바이트 배열 데이터를 출력할 때, 파이썬은 출력할 수 없는 바이트에 대해서는\n",
    "#\\xxx 를 사용하고, 출력할 수 있는 바이트에 대해서는 아스키코드 값을 사용\n",
    "the_bytes = bytes(range(0,256))\n",
    "the_bytes\n",
    "\n"
   ]
  },
  {
   "cell_type": "code",
   "execution_count": 71,
   "metadata": {},
   "outputs": [
    {
     "name": "stdout",
     "output_type": "stream",
     "text": [
      "Valid PNG, width 154 height 141\n"
     ]
    },
    {
     "data": {
      "text/plain": [
       "154"
      ]
     },
     "execution_count": 71,
     "metadata": {},
     "output_type": "execute_result"
    }
   ],
   "source": [
    "#7.2.2 이진 데이터 변환하기; struct\n",
    "#struct 모듈 : C, C++의 구조체와 유사하게 데이터 처리하는 라이브러리\n",
    "#struct를 사용하면 header =  데이터를 파이썬 데이터 구조로 바꾸거나 파이썬 데이터 구조를 이진 데이터로 바꿀 수 있다.\n",
    "\n",
    "#\n",
    "import struct\n",
    "valid_png_header = b'\\x89PNG\\r\\n\\x1a\\n'\n",
    "data = b'\\x89PNG\\r\\n\\x1a\\n\\x00\\x00\\x00\\rIHDR' b'\\x00\\x00\\x00\\x9a\\x00\\x00\\x00\\x8d\\x08\\x02\\x00\\x00\\x00\\xc0'\n",
    "if data[:8] == valid_png_header:\n",
    "    width, height = struct.unpack('>LL',data[16:24]) #>LL:입력한 바이트 시퀀스를 해석하고, 파이썬 데이터 형식으로 만들어주는 형식문자열\n",
    "    print('Valid PNG, width', width, 'height', height)\n",
    "else:\n",
    "    print('Not avalid PNG')\n",
    "\n",
    "    \n",
    "data[16:20] #b'\\x00\\x00\\x00\\x9a'\n",
    "data[20:24] #b'\\x00\\x00\\x00\\x8d'\n",
    "0x9a #154\n",
    "0x8d #141\n",
    "\n",
    "\n",
    "#>LL 대신 >2L 사용가능"
   ]
  },
  {
   "cell_type": "code",
   "execution_count": 77,
   "metadata": {},
   "outputs": [
    {
     "name": "stdout",
     "output_type": "stream",
     "text": [
      "b'89504e470d0a1a0a'\n"
     ]
    },
    {
     "data": {
      "text/plain": [
       "2"
      ]
     },
     "execution_count": 77,
     "metadata": {},
     "output_type": "execute_result"
    }
   ],
   "source": [
    "#7.2.4 바이트/문자열 변환하기: binascii()\n",
    "import binascii\n",
    "balid_png_header = b'\\x89PNG\\r\\n\\x1a\\n'\n",
    "print(binascii.hexlify(valid_png_header)) #16진수 시퀀스인 8바이트의 PNG헤더를 출력\n",
    "\n",
    "#print(binascii,unhexlify(b'89504e470d0a1a0a')) #반대도 가능\n",
    "\n",
    "#7.2.5 비트 연산자\n",
    "#a : 5(10진수), 0b0101(2진수)\n",
    "#b : 1(10진수), 0b0001(2진수)\n",
    "\n",
    "a = 5\n",
    "b = 1\n",
    "\n",
    "a&b\n",
    "a|b\n",
    "a^b\n",
    "~a\n",
    "a<<b\n",
    "a>>b\n",
    "\n",
    "\n"
   ]
  }
 ],
 "metadata": {
  "kernelspec": {
   "display_name": "Python 3",
   "language": "python",
   "name": "python3"
  },
  "language_info": {
   "codemirror_mode": {
    "name": "ipython",
    "version": 3
   },
   "file_extension": ".py",
   "mimetype": "text/x-python",
   "name": "python",
   "nbconvert_exporter": "python",
   "pygments_lexer": "ipython3",
   "version": "3.6.1"
  }
 },
 "nbformat": 4,
 "nbformat_minor": 2
}
