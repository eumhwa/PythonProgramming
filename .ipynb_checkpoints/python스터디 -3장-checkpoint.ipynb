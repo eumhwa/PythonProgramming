{
 "cells": [
  {
   "cell_type": "code",
   "execution_count": 8,
   "metadata": {},
   "outputs": [
    {
     "data": {
      "text/plain": [
       "'Harpo'"
      ]
     },
     "execution_count": 8,
     "metadata": {},
     "output_type": "execute_result"
    }
   ],
   "source": [
    "#3.2 리스트\n",
    "#3.2.1 리스트 생성  -> [] or list()\n",
    "empty_list=[]\n",
    "weekdaays=['mon', 'tue', 'wed','etc']\n",
    "another_emptylist=list() #list() 는 빈 리스트 만듬\n",
    "\n",
    "#3.2.2 다른 데이터타입을 리스트로 변환하기 -> list()\n",
    "list('cat')\n",
    "\n",
    "a_tuple = ('ready', 'fire', 'aim')\n",
    "list(a_tuple) #list를 tuple로 변환\n",
    "\n",
    "birthday = '07/10/1992'\n",
    "birthday.split('/')\n",
    "splitme = 'a/b//c/d//e'\n",
    "splitme.split('/')\n",
    "\n",
    "marxes=['Groucho', 'Chico', 'Harpo']\n",
    "marxes[-1]"
   ]
  },
  {
   "cell_type": "code",
   "execution_count": 15,
   "metadata": {},
   "outputs": [
    {
     "data": {
      "text/plain": [
       "'b1'"
      ]
     },
     "execution_count": 15,
     "metadata": {},
     "output_type": "execute_result"
    }
   ],
   "source": [
    "#3.2.4 리스트의 리스트\n",
    "a = ['a1', 'a2']\n",
    "b = ['b1', 'b2']\n",
    "c = ['c1', 'c2']\n",
    "ttl = [a,b,c]\n",
    "ttl\n",
    "ttl[1]\n",
    "ttl[1][0]"
   ]
  },
  {
   "cell_type": "code",
   "execution_count": 24,
   "metadata": {},
   "outputs": [
    {
     "data": {
      "text/plain": [
       "['park', 'choi', 'kim']"
      ]
     },
     "execution_count": 24,
     "metadata": {},
     "output_type": "execute_result"
    }
   ],
   "source": [
    "#3.2.5 offset으로 항목바꾸기\n",
    "name = ['kim','lee', 'park']\n",
    "name[1] = 'choi'\n",
    "name #list는 변경가능하지만 tuple은 불변\n",
    "\n",
    "#3.2.6 슬라이스로 항목 추출하기\n",
    "name[0:2] #!!주의 - 0이상 2미만에 해당하는 항목(이하X)\n",
    "name[::2] # step=2\n",
    "name[::-2] # 역순으로 step=2\n",
    "name[::-1] # 리스트 반전"
   ]
  },
  {
   "cell_type": "markdown",
   "metadata": {},
   "source": []
  },
  {
   "cell_type": "code",
   "execution_count": 28,
   "metadata": {},
   "outputs": [
    {
     "data": {
      "text/plain": [
       "['kim', 'lee', 'park', 'Hong', 'Baek', 'Yu', 'Baek', 'Yu']"
      ]
     },
     "execution_count": 28,
     "metadata": {},
     "output_type": "execute_result"
    }
   ],
   "source": [
    "#3.2.7 리스트의 끝에 항목 추가하기 :append()\n",
    "name = ['kim','lee', 'park']\n",
    "name.append('Hong')\n",
    "name\n",
    "\n",
    "#3.2.8 리스트 병합하기 : extend() or +=\n",
    "name2 = ['Baek', 'Yu']\n",
    "name.extend(name2)\n",
    "name\n",
    "name+=name2\n",
    "name # append를 사용하면 항목이 추가되지 않고 리스트 자체가 추가된다.\n",
    "\n"
   ]
  },
  {
   "cell_type": "code",
   "execution_count": 33,
   "metadata": {},
   "outputs": [
    {
     "data": {
      "text/plain": [
       "['lee', 'park']"
      ]
     },
     "execution_count": 33,
     "metadata": {},
     "output_type": "execute_result"
    }
   ],
   "source": [
    "#3.2.9 offset과 insert()로 항목 추가하기\n",
    "name = ['kim','lee', 'park']\n",
    "name.insert(1,'kang') #1번 자리에 추가 (offset범위 넘어가면 그냥 맨뒤에 붙임)\n",
    "name\n",
    "\n",
    "#3.2.10 offset으로 항목삭제하기 : del\n",
    "name = ['kim','lee', 'park']\n",
    "del name[-1] #맨뒤에 항목삭제\n",
    "name\n",
    "\n",
    "#3.2.11 값으로 항목 삭제하기 : remove()\n",
    "name = ['kim','lee', 'park']\n",
    "name.remove('kim')\n",
    "name"
   ]
  },
  {
   "cell_type": "code",
   "execution_count": 39,
   "metadata": {},
   "outputs": [
    {
     "data": {
      "text/plain": [
       "True"
      ]
     },
     "execution_count": 39,
     "metadata": {},
     "output_type": "execute_result"
    }
   ],
   "source": [
    "#3.2.12 offset으로 항목을 얻은 후 삭제하기 : pop()\n",
    "name = ['kim','lee', 'park', 'kang', 'hong']\n",
    "name.pop() #pop()은 리스트에서 항목을 가져오면서 동시에 항목 삭제 -> hong출력하면서 name에서 hong삭제\n",
    "name\n",
    "name.pop(1) #offset이용가능\n",
    "name\n",
    "\n",
    "#3.2.13 값으로 항목 offset 찾기 : index()\n",
    "name = ['kim','lee', 'park']\n",
    "name.index('kim')\n",
    "\n",
    "#3.2.14 존재여부 확인하기 : in\n",
    "name = ['kim','lee', 'park']\n",
    "'kim' in name"
   ]
  },
  {
   "cell_type": "code",
   "execution_count": 47,
   "metadata": {},
   "outputs": [
    {
     "data": {
      "text/plain": [
       "['c', 'b', 'a']"
      ]
     },
     "execution_count": 47,
     "metadata": {},
     "output_type": "execute_result"
    }
   ],
   "source": [
    "#3.2.15 값 세기 : count()\n",
    "name = ['kim','lee', 'kim']\n",
    "name.count('kim')\n",
    "\n",
    "#3.2.16 문자열로 변환하기 : join()\n",
    "name = ['kim','lee', 'park']\n",
    "'/'.join(name) #split()의 반대\n",
    "\n",
    "#3.2.17 정렬하기 : sort() -> 숫자: 오름차순/ 문자열: 알파벳순 정렬\n",
    "    #sort() : 리스트 자체를 내부적으로 정렬 \n",
    "    #sorted() : 리스트의 정렬된 복사본을 반환\n",
    "name = ['b','a', 'c']\n",
    "sorted_name = sorted(name)\n",
    "sorted_name #알파벳 순 정렬, 복사본이므로 원본 name은 변하지 않음\n",
    "name.sort()\n",
    "name # 리스트 자체를 내부적으로 정렬함\n",
    "name.sort(reverse=True) # 내림차순\n",
    "name\n"
   ]
  },
  {
   "cell_type": "code",
   "execution_count": 6,
   "metadata": {},
   "outputs": [
    {
     "data": {
      "text/plain": [
       "140105203600392"
      ]
     },
     "execution_count": 6,
     "metadata": {},
     "output_type": "execute_result"
    }
   ],
   "source": [
    "#3.2.18 항목 개수 얻기 : len()\n",
    "name = ['kim','lee', 'park']\n",
    "len(name)\n",
    "\n",
    "#3.2.19 할당: =  / 복사: copy()\n",
    "a = [1,2,3]\n",
    "b = a #할당\n",
    "b\n",
    "a[0] = 'sup'\n",
    "a\n",
    "b  #!!주의 : b는 리스트 객체의 a를 참조하므로 a가 변하면 b에 반영됨/\n",
    "b[0] = 'sub'\n",
    "b\n",
    "a #!! b를 바꺼도 a에 반영\n",
    "\n",
    "id(b)\n"
   ]
  },
  {
   "cell_type": "code",
   "execution_count": 62,
   "metadata": {},
   "outputs": [
    {
     "data": {
      "text/plain": [
       "('1', '2')"
      ]
     },
     "execution_count": 62,
     "metadata": {},
     "output_type": "execute_result"
    }
   ],
   "source": [
    "#3.3 튜플\n",
    "#3.3.1 튜플 생성하기 :()\n",
    "empty_tuple=()\n",
    "empty_tuple\n",
    "\n",
    "name_tuple = 'kim','lee', 'park' #정의할 때 () 필요는 없다.\n",
    "name_tuple\n",
    "\n",
    "a, b, c = name_tuple #tuple은 한번에 여러변수를 할당할 수 있다 : 튜플 언패킹(tuple unpacking)\n",
    "a;b;c\n",
    "\n",
    "pw = 'aa1234'\n",
    "ident = 'kuh1007'\n",
    "pw, ident = ident, pw # 한 문장에서 값을 교환하기 위해 임시변수를 사용하지 않고 튜플을 사용할수 있다.\n",
    "pw; ident\n",
    "\n",
    "a_list = ['1','2'] # tuple()로 다른객체를 튜플로 만들어줄 수 있다.\n",
    "tuple(a_list)\n",
    "\n",
    "##튜플을 왜 사용하는가?\n",
    "## 1) 튜플이 더 적은공간 사용\n",
    "## 2) 실수로 튜플의 항목이 손상될 염려 X\n",
    "## 3) 튜플을 딕셔너리 키로 사용할 수 있따\n",
    "## 4) 네임드 튜플은 객체의 단순한 대안이 될 수 있따\n",
    "## 5) 함수의 인자들은 튜플로 전달된다."
   ]
  },
  {
   "cell_type": "code",
   "execution_count": 74,
   "metadata": {},
   "outputs": [
    {
     "data": {
      "text/plain": [
       "{'a': 'b', 'c': 'd', 'e': 'f'}"
      ]
     },
     "execution_count": 74,
     "metadata": {},
     "output_type": "execute_result"
    }
   ],
   "source": [
    "#3.4 딕셔너리 -key,value 딕셔너리의 키는 유일해야한다!\n",
    "#3.4.1 딕셔너리 생성하기 :{}\n",
    "empty_dict={}\n",
    "empty_dict\n",
    "\n",
    "dict_chk = {\n",
    "    \"day\" : \"Monday just like the hell\",\n",
    "    \"manner\" : \"manner makes man\",\n",
    "    \"diet\" : \"i am always hungry\"\n",
    "}\n",
    "dict_chk\n",
    "\n",
    "#3.4.2 딕셔너리로 변경하기 : dict()\n",
    "lol = [['a','b'],['c','d'],['e','f']]   #딕셔너리의 키 순서는 임의적임을 명심!\n",
    "dict(lol)\n",
    "\n",
    "##1)두 항목 튜플로 된 리스트\n",
    "lot = [('a','b'),('c','d'),('e','f')]\n",
    "dict(lot)\n",
    "\n",
    "##2)두 항목 리스트로 된 튜플\n",
    "lol = (['a','b'],['c','d'],['e','f'])\n",
    "dict(lol)\n",
    "\n",
    "##3)두 문자 문자열로 된 리스트\n",
    "los = ['ab','cd','ef']\n",
    "dict(los)\n",
    "\n",
    "##4)두 문자 문자열로 된 튜플\n",
    "tos = ('ab','cd','ef')\n",
    "dict(tos)"
   ]
  },
  {
   "cell_type": "code",
   "execution_count": 80,
   "metadata": {},
   "outputs": [
    {
     "data": {
      "text/plain": [
       "{'a': 1, 'b': 'play'}"
      ]
     },
     "execution_count": 80,
     "metadata": {},
     "output_type": "execute_result"
    }
   ],
   "source": [
    "#3.4.3 항목 추가/변경하기 : [key]\n",
    "dict_chk = {\n",
    "    \"day\" : \"Monday just like the hell\",\n",
    "    \"manner\" : \"manner makes man\",\n",
    "    \"diet\" : \"i am always hungry\"\n",
    "}\n",
    "dict_chk['money'] = 'dollar and won and yen' #추가\n",
    "dict_chk\n",
    "\n",
    "dict_chk['money'] = 'won and yen and dollar' #변경\n",
    "dict_chk\n",
    "\n",
    "#3.4.4 딕셔너리 결합하기 : update()\n",
    "others = {'hobby': 'soccer', 'food': 'fruit'}\n",
    "dict_chk.update(others)\n",
    "dict_chk #순서는 임의적\n",
    "\n",
    "#결합하려는데 키값이 중복된 경우-> 두번째 딕셔너리 값이 승리\n",
    "first = first = {'a':1, 'b':2}\n",
    "second = {'b':'play'}\n",
    "first.update(second) #second의 b값으로 설정!\n",
    "first\n"
   ]
  },
  {
   "cell_type": "code",
   "execution_count": 84,
   "metadata": {},
   "outputs": [
    {
     "data": {
      "text/plain": [
       "False"
      ]
     },
     "execution_count": 84,
     "metadata": {},
     "output_type": "execute_result"
    }
   ],
   "source": [
    "#3.4.5 키와 del로 항목 삭제하기\n",
    "dict_chk = {\n",
    "    \"day\" : \"Monday just like the hell\",\n",
    "    \"manner\" : \"manner makes man\",\n",
    "    \"diet\" : \"i am always hungry\"\n",
    "}\n",
    "del dict_chk[\"day\"]\n",
    "dict_chk\n",
    "\n",
    "#3.4.6 모든 항목 삭제하기 : clear()\n",
    "dict_chk.clear()\n",
    "dict_chk\n",
    "\n",
    "#3.4.7 in으로 키 멤버십 테스트하기(키가 존재하는지 알고 싶을 때)\n",
    "dt = first = {'a':1, 'b':2, 'c':3, 'd':4}\n",
    "'b' in dt #boolean\n",
    "'e' in dt\n"
   ]
  },
  {
   "cell_type": "code",
   "execution_count": 91,
   "metadata": {},
   "outputs": [
    {
     "data": {
      "text/plain": [
       "[('a', 1), ('b', 2), ('c', 3), ('d', 4)]"
      ]
     },
     "execution_count": 91,
     "metadata": {},
     "output_type": "execute_result"
    }
   ],
   "source": [
    "#3.4.8 항목 얻기 : [key]\n",
    "dt = first = {'a':1, 'b':2, 'c':3, 'd':4}\n",
    "dt['a']\n",
    "dt.get('b')\n",
    "dt.get('e', 'not exist') #key로 e가 없으면 다음 출력\n",
    "\n",
    "#3.4.9 모든 키 얻기: keys()\n",
    "dt.keys()\n",
    "\n",
    "#3.4.10 모든 값 얻기: values()\n",
    "dt.values()\n",
    "\n",
    "#3.4.11 모든 쌍의 키-밸류 얻기 : items()\n",
    "list(dt.items()) #각 키와 밸류는 튜플로 반환\n"
   ]
  },
  {
   "cell_type": "code",
   "execution_count": 96,
   "metadata": {},
   "outputs": [
    {
     "data": {
      "text/plain": [
       "{'a': 100, 'b': 2, 'c': 3, 'd': 4}"
      ]
     },
     "execution_count": 96,
     "metadata": {},
     "output_type": "execute_result"
    }
   ],
   "source": [
    "#3.4.12 할당: = , 복사: copy()\n",
    "dt =  {'a':1, 'b':2, 'c':3, 'd':4}\n",
    "dt2 = dt\n",
    "dt['a']=100\n",
    "dt \n",
    "dt2 # list와 마찬가지로 dt2도 변경 적용(참조)\n",
    "\n",
    "#복사\n",
    "dt3 = dt.copy()\n",
    "dt['a']=500\n",
    "dt\n",
    "dt3 #복사했기 때문에 변경 반영안됨\n"
   ]
  },
  {
   "cell_type": "code",
   "execution_count": 102,
   "metadata": {},
   "outputs": [
    {
     "data": {
      "text/plain": [
       "{'a', 'b', 'c', 'd'}"
      ]
     },
     "execution_count": 102,
     "metadata": {},
     "output_type": "execute_result"
    }
   ],
   "source": [
    "#3.5 셋 : set - 값은 버리고 키만 남은 딕셔너리 (마찬가지로 키는 유일해야함)\n",
    "#어떤 것이 존재하는지 여부를 알고자할 때 사용\n",
    "\n",
    "#3.5.1 셋 생성하기 :set()\n",
    "empty_set = set()\n",
    "empty_set\n",
    "even_numbers = {0,2,4,6,8}\n",
    "even_numbers\n",
    "odd_numbers = {1,3,5,7,9}\n",
    "odd_numbers\n",
    "\n",
    "#3.5.2 데이터 타입 변환하기 : set()\n",
    "set('letter') #중복처리 후 출력\n",
    "set({'a':1, 'b':2, 'c':3, 'd':4})\n",
    "#리스트를 셋으로, 튜플을 셋으로 만들 수 있다.\n"
   ]
  },
  {
   "cell_type": "code",
   "execution_count": 132,
   "metadata": {},
   "outputs": [
    {
     "name": "stdout",
     "output_type": "stream",
     "text": [
      "martini\n",
      "black russian\n",
      "white russian\n",
      "martini\n",
      "black russian\n",
      "white russian\n",
      "manhattan\n",
      "black russian\n"
     ]
    },
    {
     "ename": "AttributeError",
     "evalue": "'set' object has no attribute 'issupersubset'",
     "output_type": "error",
     "traceback": [
      "\u001b[0;31m---------------------------------------------------------------------------\u001b[0m",
      "\u001b[0;31mAttributeError\u001b[0m                            Traceback (most recent call last)",
      "\u001b[0;32m<ipython-input-132-bc89050ef8a0>\u001b[0m in \u001b[0;36m<module>\u001b[0;34m()\u001b[0m\n\u001b[1;32m     53\u001b[0m \u001b[0;31m# >=연산자와 issuperset()\u001b[0m\u001b[0;34m\u001b[0m\u001b[0;34m\u001b[0m\u001b[0m\n\u001b[1;32m     54\u001b[0m \u001b[0ma\u001b[0m\u001b[0;34m>=\u001b[0m\u001b[0mb\u001b[0m\u001b[0;34m\u001b[0m\u001b[0m\n\u001b[0;32m---> 55\u001b[0;31m \u001b[0ma\u001b[0m\u001b[0;34m.\u001b[0m\u001b[0missupersubset\u001b[0m\u001b[0;34m(\u001b[0m\u001b[0mb\u001b[0m\u001b[0;34m)\u001b[0m\u001b[0;34m\u001b[0m\u001b[0m\n\u001b[0m",
      "\u001b[0;31mAttributeError\u001b[0m: 'set' object has no attribute 'issupersubset'"
     ]
    }
   ],
   "source": [
    "#3.5.3 in으로 값 멤버십 테스트하기\n",
    "drinks ={\n",
    "    'martini': {'vodka', 'vermouth'},\n",
    "    'black russian' : {'vodka', 'kahlua'},\n",
    "    'white russian' : {'cream', 'kahlua', 'vodka'},\n",
    "    'manhattan' : {'rye', 'vermouth', 'bitters'}\n",
    "}\n",
    "#보드카가 포함된 음료는?\n",
    "for name, contents in drinks.items():\n",
    "    if 'vodka' in contents:\n",
    "        print(name)\n",
    "        \n",
    "#3.5.4 콤비네이션과 연산자\n",
    "#보드카 혹은 버몬트가 들어있는 음료는?\n",
    "for name, contents in drinks.items():\n",
    "    if contents & {'vermouth', 'vodka'}:   #set의 intersection 연산자 : & (앰퍼샌드)\n",
    "        print(name)\n",
    "\n",
    "#보드카는 있지만 크림이나 버몬트는 없는 음료는?\n",
    "for name, contents in drinks.items():\n",
    "    if 'vodka' in contents and not contents & {'cream', 'vermouth'}:\n",
    "        print(name)\n",
    "\n",
    "# &와 intersection()\n",
    "a = {1,2}\n",
    "b = {2,3}\n",
    "a&b\n",
    "a.intersection(b)\n",
    "\n",
    "bruss = drinks['black russian'] # 키로 밸류 가져오기\n",
    "wruss = drinks['white russian']\n",
    "bruss; wruss\n",
    "bruss & wruss\n",
    "\n",
    "# |연산자와 union()\n",
    "a|b\n",
    "a.union(b)\n",
    "bruss|wruss\n",
    "\n",
    "# -연산자와 difference() ->차집합\n",
    "a-b\n",
    "a.difference(b)\n",
    "wruss-bruss\n",
    "\n",
    "# ^연산자와 symmetric_difference() ->합집합-교집합\n",
    "a^b\n",
    "a.symmetric_difference(b)\n",
    "\n",
    "# <=연산자와 issubset() - 부분집합 , < : 진부분집합(proper subset)\n",
    "a<=b\n",
    "a.issubset(b)\n",
    "\n",
    "# >=연산자와 issuperset() \n",
    "a>=b\n",
    "a.issuperset(b)\n"
   ]
  },
  {
   "cell_type": "code",
   "execution_count": null,
   "metadata": {
    "collapsed": true
   },
   "outputs": [],
   "source": [
    "#3.6 자료구조 비교하기\n",
    "# 복습 - []: 리스트, 콤마(,): 튜플, {}: 딕셔너리\n",
    "\n",
    "#3.7 자료구조를 더크게"
   ]
  }
 ],
 "metadata": {
  "kernelspec": {
   "display_name": "Python 3",
   "language": "python",
   "name": "python3"
  },
  "language_info": {
   "codemirror_mode": {
    "name": "ipython",
    "version": 3
   },
   "file_extension": ".py",
   "mimetype": "text/x-python",
   "name": "python",
   "nbconvert_exporter": "python",
   "pygments_lexer": "ipython3",
   "version": "3.6.1"
  }
 },
 "nbformat": 4,
 "nbformat_minor": 2
}
