{
 "cells": [
  {
   "cell_type": "code",
   "execution_count": 4,
   "metadata": {},
   "outputs": [
    {
     "name": "stdout",
     "output_type": "stream",
     "text": [
      "hyunjoo13\n",
      "220\n",
      "pjtin_official\n",
      "nonusefulsjfact\n",
      "instiz\n",
      "15radiostar_mbc\n",
      "realmudo\n",
      "smrookies\n",
      "BTS_twt\n",
      "WHYSTYLE_global\n",
      "chocolat_bonx2\n",
      "2014momhouse\n",
      "Ryeowook_union\n",
      "SJ_market\n",
      "j5408085\n",
      "HeeZZinPang\n",
      "SPmission\n",
      "sm_cnc\n",
      "Lastela\n",
      "BoAkwon\n",
      "HearingRW\n",
      "GYUsuni_bot\n",
      "[신서유기4] 사회 적응 레벨 테스트! #화요일엔신서유기4 #신서유기4  https://t.co/LOv1kCPWSE #이슬만먹고살고파증 #쏘리쏘리쏘리쏘리_광화문_아니고_술집에서\n",
      "@sunmi4912 언니 머리하러오세용ㅋㅋㅋㅋ\n",
      "저 드디어 손님을 받을수있게되었어요!!! 머리하고싶으신 엘프분들 머리하러오세요 할인해드릴게여~~ 문의는 디엠으로 청담동입니다 이름을 알만하면 아는샵\n",
      "*청담동이라 할인해도 엄청싸진않을수있지만... 그래도할인… https://t.co/M9aQ8jCdmH\n",
      "RT @Special_Pride71: RT) 슈주 83라인 0701 이특, 0710 희철의 생일을 축하하며 🎉🎉\n",
      "알티 추첨을 통해 장르 상관없이 두분께 이모티콘 드립니다-!\n",
      "당발은 7월 10일 오후 슈주시 ԅ( ˘ω˘ԅ)\n",
      "\n",
      "박정수 김희철 외모 실화냐…\n",
      "RT @esther007855: 김희철 첫차 안본 사람 이세상에서 존재하지 않게 해주세요.🙇🙇 누가그랬다. X맨하면 김희철 첫차라고 \n",
      "난 이 영상 안본 팬과 얘기하지 않겠습니다✋✋ https://t.co/vHkCYuu3mx\n",
      "RT @Kimhxxchul0610: 조사나왔습니다\n",
      "이 노래 아시는 분들은 알티해주세요 https://t.co/Y8e5yKrWMC\n",
      "RT @Whisky_core: 탐라 조사나왔습니다\n",
      "\n",
      "내일 《학교》또는 《회사》 나가시는 분들 Rt바랍니다\n",
      "\n",
      "아니 다들 쉼? 진짜 실화야???\n",
      "RT @bloomingblues: 김려욱 신부에게 못 들은 사람 없게 해주세요ㅠㅠㅠㅠㅠㅠㅠㅠㅠㅠㅠㅠㅠㅠㅠㅠㅠㅠㅠㅠㅠㅠㅠ https://t.co/aUzztWiETv\n",
      "RT @esther007855: #아는사람RT\n",
      "\n",
      "얼마나 아는지 궁금했어요.. 알티해줘여&gt;&lt; https://t.co/lQlBidM9kt\n",
      "잠깐들렸는데 이쁘다 #마빗#봄날의소나기#예성 https://t.co/KGRZArAjG5\n"
     ]
    }
   ],
   "source": [
    "#apps.twitter.com 에서 토큰들 가져오고난 후에 시작\n",
    "import tweepy\n",
    "import re\n",
    "\n",
    "consumer_key = \"2BYRx8HYlw9m3csy8asm2YgaU\"\n",
    "consumer_secret = \"PW0sHYWwPAUzuEIEjU0JRed9lNHYnHz4IuJ2iV9Zr9pErnGr6n\"\n",
    "\n",
    "access_key = \"899473501341405184-3ltj3yyUkxJJq9A4B3YCbXiujQHKEok\"\n",
    "access_secret = \"aDO9exFIy7o4qdUKjLzWEZMyak1t5cw2mh712GzTO9u29\"\n",
    "\n",
    "auth = tweepy.OAuthHandler(consumer_key, consumer_secret)  #Oauth를 얻기 위한 정보 설정\n",
    "\n",
    "auth.set_access_token(access_key, access_secret)  #Oauth를 얻기 위한 Access token 설정\n",
    "\n",
    "api = tweepy.API(auth)\n",
    "\n",
    "\n",
    "user = api.get_user('hyunjoo13')\n",
    "\n",
    "print(user.screen_name)\n",
    "print(user.followers_count)\n",
    "for friend in user.friends():\n",
    "    print(friend.screen_name)\n",
    "    \n",
    "f = open('/home/eumhwa/timeline_test.txt', 'w')\n",
    "for status in tweepy.Cursor(api.user_timeline, screen_name = 'hyunjoo13').items(10):\n",
    "    print(status.text)\n",
    "    print(status.text, file = f)\n",
    "f.close()\n"
   ]
  },
  {
   "cell_type": "code",
   "execution_count": 5,
   "metadata": {},
   "outputs": [
    {
     "name": "stdout",
     "output_type": "stream",
     "text": [
      "<h1>An Interesting Title</h1>\n",
      "<h1>An Interesting Title</h1>\n",
      "<html>\n",
      " <head>\n",
      "  <title>\n",
      "   A Useful Page\n",
      "  </title>\n",
      " </head>\n",
      " <body>\n",
      "  <h1>\n",
      "   An Interesting Title\n",
      "  </h1>\n",
      "  <div>\n",
      "   Lorem ipsum dolor sit amet, consectetur adipisicing elit, sed do eiusmod tempor incididunt ut labore et dolore magna aliqua. Ut enim ad minim veniam, quis nostrud exercitation ullamco laboris nisi ut aliquip ex ea commodo consequat. Duis aute irure dolor in reprehenderit in voluptate velit esse cillum dolore eu fugiat nulla pariatur. Excepteur sint occaecat cupidatat non proident, sunt in culpa qui officia deserunt mollit anim id est laborum.\n",
      "  </div>\n",
      " </body>\n",
      "</html>\n",
      "\n"
     ]
    }
   ],
   "source": [
    "#beautifulsoup_ex\n",
    "from urllib.request import urlopen\n",
    "from bs4 import BeautifulSoup\n",
    "\n",
    "html = urlopen(\"http://www.pythonscraping.com/pages/page1.html\")\n",
    "bsobj = BeautifulSoup(html.read(), \"html.parser\")\n",
    "print(bsobj.h1)\n",
    "print(bsobj.html.body.h1)\n",
    "print(bsobj.prettify())"
   ]
  },
  {
   "cell_type": "code",
   "execution_count": 8,
   "metadata": {},
   "outputs": [
    {
     "name": "stdout",
     "output_type": "stream",
     "text": [
      "<script type=\"text/javascript\">\n",
      " location.replace( \"http://ncaptcha.search.daum.net/captcha/show?redirect=http%3A%2F%2Fsearch.daum.net%2Fsearch%3Fw%3Dtot%26DA%3DYZR%26t__nil_searchbox%3Dbtn%26sug%3D%26sugo%3D%26q%3D%25EC%2595%258C%25EC%2593%25B8%25EC%258B%25A0%25EC%259E%25A1\" );\n",
      "</script>\n",
      "\n"
     ]
    }
   ],
   "source": [
    "#daum.net에서 알쓸신잡 검색한 페이지\n",
    "from urllib.request import urlopen\n",
    "from bs4 import BeautifulSoup\n",
    "\n",
    "html = urlopen(\"http://search.daum.net/search?w=tot&DA=YZR&t__nil_searchbox=btn&sug=&sugo=&q=%EC%95%8C%EC%93%B8%EC%8B%A0%EC%9E%A1\")\n",
    "bsobj = BeautifulSoup(html.read(), \"html.parser\")\n",
    "print(bsobj.prettify())\n",
    "#코드로 접근시에 서버에서 일단 막아서 원하는 결과 나오지 않음-> 헤더로 접근해야한다(웹브라우저로 접속한 것처럼 보이도록)\n"
   ]
  },
  {
   "cell_type": "code",
   "execution_count": 10,
   "metadata": {},
   "outputs": [
    {
     "name": "stdout",
     "output_type": "stream",
     "text": [
      "Date: Mon, 21 Aug 2017 04:17:27 GMT\n",
      "Server: Apache\n",
      "Set-Cookie: uvkey=WZpe19PnaYkAAAN86F4AAACx; expires=Thu, 31-DEC-2020 00:00:00 GMT; path=/; domain=.search.daum.net;\n",
      "Set-Cookie: ssab=; expires=-1; path=/; domain=.daum.net;\n",
      "Vary: Accept-Encoding\n",
      "Connection: close\n",
      "Transfer-Encoding: chunked\n",
      "Content-Type: text/html; charset=utf-8\n",
      "\n",
      "\n",
      "[<dd class=\"cont\" id=\"cont_intro\"> 분야를 넘나드는 잡학박사들이 국내를 여행하면서 다양한 관점의 이야기를 펼쳐 딱히 쓸데는 없지만 알아두면 흥이 나는 신비한 ‘수다 여행’을 하는 프로그램 </dd>]\n",
      " 분야를 넘나드는 잡학박사들이 국내를 여행하면서 다양한 관점의 이야기를 펼쳐 딱히 쓸데는 없지만 알아두면 흥이 나는 신비한 ‘수다 여행’을 하는 프로그램 \n"
     ]
    }
   ],
   "source": [
    "from urllib.request import urlopen\n",
    "from urllib.request import Request\n",
    "from bs4 import BeautifulSoup\n",
    "\n",
    "url = \"http://search.daum.net/search?w=tot&DA=YZR&t__nil_searchbox=btn&sug=&sugo=&q=%EC%95%8C%EC%93%B8%EC%8B%A0%EC%9E%A1\"\n",
    "user_agent = \"Mozilla/4.0 (compatible; MSIE 8.0; Windows NT 5.1; Trident/4.0; .NET CLR 2.0.50727; .NET CLR 3.0.4506.2152; .NET CLR 3.5.30729)\"\n",
    "req = Request(url)\n",
    "req.add_header(\"User-agent\", user_agent) # 헤더추가\n",
    "\n",
    "response = urlopen(req)\n",
    "print(response.info())\n",
    "the_page = response.read()\n",
    "\n",
    "bsobj = BeautifulSoup(the_page, \"html.parser\")\n",
    "#print(bsobj.prettify())\n",
    "\n",
    "# .findAll\n",
    "intro = bsobj.findAll(\"dd\",{\"class\":\"cont\",\"id\":\"cont_intro\"})\n",
    "print(intro)\n",
    "\n",
    "for txt in intro:\n",
    "    print(txt.get_text())\n",
    "\n",
    "f = open('/home/eumhwa/jtbc_prog.txt', 'w')\n",
    "print(txt.get_text(),file=f)\n",
    "f.close()\n"
   ]
  },
  {
   "cell_type": "code",
   "execution_count": 13,
   "metadata": {},
   "outputs": [
    {
     "name": "stdout",
     "output_type": "stream",
     "text": [
      "[<dd class=\"cont\" id=\"cont_intro\"> 분야를 넘나드는 잡학박사들이 국내를 여행하면서 다양한 관점의 이야기를 펼쳐 딱히 쓸데는 없지만 알아두면 흥이 나는 신비한 ‘수다 여행’을 하는 프로그램 </dd>]\n",
      " 분야를 넘나드는 잡학박사들이 국내를 여행하면서 다양한 관점의 이야기를 펼쳐 딱히 쓸데는 없지만 알아두면 흥이 나는 신비한 ‘수다 여행’을 하는 프로그램 \n"
     ]
    }
   ],
   "source": [
    "#scraping Target tag-알쓸신잡 검색 후 설명한 글 가져오기\n",
    "intro = bsobj.findAll(\"dd\", {\"class\":\"cont\", \"id\":\"cont_intro\"}) #dd태크 안에 class, id 속성과 값을 딕셔너리로 지정해서 해당 태크와 동일한 값 모두 가져온다\n",
    "print(intro)\n",
    "\n",
    "for txt in intro:\n",
    "    print(txt.get_text())\n",
    "    \n",
    "f = open('/home/eumhwa/jtbc_prog.txt', 'w')\n",
    "print(txt.get_text(), file = f)\n",
    "f.close()"
   ]
  },
  {
   "cell_type": "code",
   "execution_count": 15,
   "metadata": {},
   "outputs": [
    {
     "name": "stdout",
     "output_type": "stream",
     "text": [
      "Date: Mon, 21 Aug 2017 04:31:23 GMT\n",
      "Server: Apache\n",
      "Set-Cookie: uvkey=WZpiG9PnaWwAAEhpcNcAAAAU; expires=Thu, 31-DEC-2020 00:00:00 GMT; path=/; domain=.search.daum.net;\n",
      "Set-Cookie: ssab=; expires=-1; path=/; domain=.daum.net;\n",
      "Vary: Accept-Encoding\n",
      "Connection: close\n",
      "Transfer-Encoding: chunked\n",
      "Content-Type: text/html; charset=utf-8\n",
      "\n",
      "\n",
      "[<li class=\"city02\"> <a class=\"link_map\" href=\"?w=tot&amp;DA=Z8T&amp;q=%EA%B0%95%EB%A6%89%20%EC%98%A4%EB%8A%98%20%EB%82%A0%EC%94%A8&amp;rtmaxcoll=Z8T\" onclick='smartLog(this, \"s=TO&amp;a=Z8TO&amp;pg=1&amp;r=1&amp;rc=1&amp;p=6&amp;e=&amp;dc=Z8T&amp;d=direct_72&amp;at=link\", event);'> <span class=\"ico_ws ico_w04\" title=\"흐림\">흐림</span> <em class=\"tit_region\">강릉</em> <strong class=\"num_temp\">29</strong> </a> </li>, <li class=\"city13\"> <a class=\"link_map\" href=\"?w=tot&amp;DA=Z8T&amp;q=%EA%B4%91%EC%A3%BC%20%EC%98%A4%EB%8A%98%20%EB%82%A0%EC%94%A8&amp;rtmaxcoll=Z8T\" onclick='smartLog(this, \"s=TO&amp;a=Z8TO&amp;pg=1&amp;r=1&amp;rc=1&amp;p=6&amp;e=&amp;dc=Z8T&amp;d=direct_72&amp;at=link\", event);'> <span class=\"ico_ws ico_w04\" title=\"흐림\">흐림</span> <em class=\"tit_region\">광주</em> <strong class=\"num_temp\">31</strong> </a> </li>, <li class=\"city10\"> <a class=\"link_map\" href=\"?w=tot&amp;DA=Z8T&amp;q=%EB%8C%80%EA%B5%AC%20%EC%98%A4%EB%8A%98%20%EB%82%A0%EC%94%A8&amp;rtmaxcoll=Z8T\" onclick='smartLog(this, \"s=TO&amp;a=Z8TO&amp;pg=1&amp;r=1&amp;rc=1&amp;p=6&amp;e=&amp;dc=Z8T&amp;d=direct_72&amp;at=link\", event);'> <span class=\"ico_ws ico_w09\" title=\"흐리고 비\">흐리고 비</span> <em class=\"tit_region\">대구</em> <strong class=\"num_temp\">29</strong> </a> </li>, <li class=\"city08\"> <a class=\"link_map\" href=\"?w=tot&amp;DA=Z8T&amp;q=%EB%8C%80%EC%A0%84%20%EC%98%A4%EB%8A%98%20%EB%82%A0%EC%94%A8&amp;rtmaxcoll=Z8T\" onclick='smartLog(this, \"s=TO&amp;a=Z8TO&amp;pg=1&amp;r=1&amp;rc=1&amp;p=6&amp;e=&amp;dc=Z8T&amp;d=direct_72&amp;at=link\", event);'> <span class=\"ico_ws ico_w09\" title=\"흐리고 비\">흐리고 비</span> <em class=\"tit_region\">대전</em> <strong class=\"num_temp\">28</strong> </a> </li>, <li class=\"city17\"> <a class=\"link_map\" href=\"?w=tot&amp;DA=Z8T&amp;q=%EB%AA%A9%ED%8F%AC%20%EC%98%A4%EB%8A%98%20%EB%82%A0%EC%94%A8&amp;rtmaxcoll=Z8T\" onclick='smartLog(this, \"s=TO&amp;a=Z8TO&amp;pg=1&amp;r=1&amp;rc=1&amp;p=6&amp;e=&amp;dc=Z8T&amp;d=direct_72&amp;at=link\", event);'> <span class=\"ico_ws ico_w04\" title=\"흐림\">흐림</span> <em class=\"tit_region\">목포</em> <strong class=\"num_temp\">29</strong> </a> </li>, <li class=\"city05\"> <a class=\"link_map\" href=\"?w=tot&amp;DA=Z8T&amp;q=%EB%B0%B1%EB%A0%B9%20%EC%98%A4%EB%8A%98%20%EB%82%A0%EC%94%A8&amp;rtmaxcoll=Z8T\" onclick='smartLog(this, \"s=TO&amp;a=Z8TO&amp;pg=1&amp;r=1&amp;rc=1&amp;p=6&amp;e=&amp;dc=Z8T&amp;d=direct_72&amp;at=link\", event);'> <span class=\"ico_ws ico_w03\" title=\"구름많음\">구름많음</span> <em class=\"tit_region\">백령</em> <strong class=\"num_temp\">25</strong> </a> </li>, <li class=\"city12\"> <a class=\"link_map\" href=\"?w=tot&amp;DA=Z8T&amp;q=%EB%B6%80%EC%82%B0%20%EC%98%A4%EB%8A%98%20%EB%82%A0%EC%94%A8&amp;rtmaxcoll=Z8T\" onclick='smartLog(this, \"s=TO&amp;a=Z8TO&amp;pg=1&amp;r=1&amp;rc=1&amp;p=6&amp;e=&amp;dc=Z8T&amp;d=direct_72&amp;at=link\", event);'> <span class=\"ico_ws ico_w04\" title=\"흐림\">흐림</span> <em class=\"tit_region\">부산</em> <strong class=\"num_temp\">30</strong> </a> </li>, <li class=\"city03\"> <a class=\"link_map\" href=\"?w=tot&amp;DA=Z8T&amp;q=%EC%84%9C%EC%9A%B8%20%EC%98%A4%EB%8A%98%20%EB%82%A0%EC%94%A8&amp;rtmaxcoll=Z8T\" onclick='smartLog(this, \"s=TO&amp;a=Z8TO&amp;pg=1&amp;r=1&amp;rc=1&amp;p=6&amp;e=&amp;dc=Z8T&amp;d=direct_72&amp;at=link\", event);'> <span class=\"ico_ws ico_w09\" title=\"흐리고 비\">흐리고 비</span> <em class=\"tit_region\">서울</em> <strong class=\"num_temp\">27</strong> </a> </li>, <li class=\"city06\"> <a class=\"link_map\" href=\"?w=tot&amp;DA=Z8T&amp;q=%EC%88%98%EC%9B%90%20%EC%98%A4%EB%8A%98%20%EB%82%A0%EC%94%A8&amp;rtmaxcoll=Z8T\" onclick='smartLog(this, \"s=TO&amp;a=Z8TO&amp;pg=1&amp;r=1&amp;rc=1&amp;p=6&amp;e=&amp;dc=Z8T&amp;d=direct_72&amp;at=link\", event);'> <span class=\"ico_ws ico_w09\" title=\"흐리고 비\">흐리고 비</span> <em class=\"tit_region\">수원</em> <strong class=\"num_temp\">27</strong> </a> </li>, <li class=\"city18\"> <a class=\"link_map\" href=\"?w=tot&amp;DA=Z8T&amp;q=%EC%95%88%EB%8F%99%EC%8B%9C%20%EC%98%A4%EB%8A%98%20%EB%82%A0%EC%94%A8&amp;rtmaxcoll=Z8T\" onclick='smartLog(this, \"s=TO&amp;a=Z8TO&amp;pg=1&amp;r=1&amp;rc=1&amp;p=6&amp;e=&amp;dc=Z8T&amp;d=direct_72&amp;at=link\", event);'> <span class=\"ico_ws ico_w04\" title=\"흐림\">흐림</span> <em class=\"tit_region\">안동</em> <strong class=\"num_temp\">31</strong> </a> </li>, <li class=\"city14\"> <a class=\"link_map\" href=\"?w=tot&amp;DA=Z8T&amp;q=%EC%97%AC%EC%88%98%20%EC%98%A4%EB%8A%98%20%EB%82%A0%EC%94%A8&amp;rtmaxcoll=Z8T\" onclick='smartLog(this, \"s=TO&amp;a=Z8TO&amp;pg=1&amp;r=1&amp;rc=1&amp;p=6&amp;e=&amp;dc=Z8T&amp;d=direct_72&amp;at=link\", event);'> <span class=\"ico_ws ico_w04\" title=\"흐림\">흐림</span> <em class=\"tit_region\">여수</em> <strong class=\"num_temp\">29</strong> </a> </li>, <li class=\"city04\"> <a class=\"link_map\" href=\"?w=tot&amp;DA=Z8T&amp;q=%EC%9A%B8%EB%A6%89%EB%8F%84%20%EC%98%A4%EB%8A%98%20%EB%82%A0%EC%94%A8&amp;rtmaxcoll=Z8T\" onclick='smartLog(this, \"s=TO&amp;a=Z8TO&amp;pg=1&amp;r=1&amp;rc=1&amp;p=6&amp;e=&amp;dc=Z8T&amp;d=direct_72&amp;at=link\", event);'> <span class=\"ico_ws ico_w03\" title=\"구름많음\">구름많음</span> <em class=\"tit_region\">울릉/독도</em> <strong class=\"num_temp\">29</strong> </a> </li>, <li class=\"city11\"> <a class=\"link_map\" href=\"?w=tot&amp;DA=Z8T&amp;q=%EC%9A%B8%EC%82%B0%20%EC%98%A4%EB%8A%98%20%EB%82%A0%EC%94%A8&amp;rtmaxcoll=Z8T\" onclick='smartLog(this, \"s=TO&amp;a=Z8TO&amp;pg=1&amp;r=1&amp;rc=1&amp;p=6&amp;e=&amp;dc=Z8T&amp;d=direct_72&amp;at=link\", event);'> <span class=\"ico_ws ico_w09\" title=\"흐리고 비\">흐리고 비</span> <em class=\"tit_region\">울산</em> <strong class=\"num_temp\">28</strong> </a> </li>, <li class=\"city16\"> <a class=\"link_map\" href=\"?w=tot&amp;DA=Z8T&amp;q=%EC%9D%B8%EC%B2%9C%20%EC%98%A4%EB%8A%98%20%EB%82%A0%EC%94%A8&amp;rtmaxcoll=Z8T\" onclick='smartLog(this, \"s=TO&amp;a=Z8TO&amp;pg=1&amp;r=1&amp;rc=1&amp;p=6&amp;e=&amp;dc=Z8T&amp;d=direct_72&amp;at=link\", event);'> <span class=\"ico_ws ico_w09\" title=\"흐리고 비\">흐리고 비</span> <em class=\"tit_region\">인천</em> <strong class=\"num_temp\">27</strong> </a> </li>, <li class=\"city09\"> <a class=\"link_map\" href=\"?w=tot&amp;DA=Z8T&amp;q=%EC%A0%84%EC%A3%BC%20%EC%98%A4%EB%8A%98%20%EB%82%A0%EC%94%A8&amp;rtmaxcoll=Z8T\" onclick='smartLog(this, \"s=TO&amp;a=Z8TO&amp;pg=1&amp;r=1&amp;rc=1&amp;p=6&amp;e=&amp;dc=Z8T&amp;d=direct_72&amp;at=link\", event);'> <span class=\"ico_ws ico_w09\" title=\"흐리고 비\">흐리고 비</span> <em class=\"tit_region\">전주</em> <strong class=\"num_temp\">29</strong> </a> </li>, <li class=\"city15\"> <a class=\"link_map\" href=\"?w=tot&amp;DA=Z8T&amp;q=%EC%A0%9C%EC%A3%BC%20%EC%98%A4%EB%8A%98%20%EB%82%A0%EC%94%A8&amp;rtmaxcoll=Z8T\" onclick='smartLog(this, \"s=TO&amp;a=Z8TO&amp;pg=1&amp;r=1&amp;rc=1&amp;p=6&amp;e=&amp;dc=Z8T&amp;d=direct_72&amp;at=link\", event);'> <span class=\"ico_ws ico_w03\" title=\"구름많음\">구름많음</span> <em class=\"tit_region\">제주</em> <strong class=\"num_temp\">32</strong> </a> </li>, <li class=\"city19\"> <a class=\"link_map\" href=\"?w=tot&amp;DA=Z8T&amp;q=%EC%B0%BD%EC%9B%90%20%EC%98%A4%EB%8A%98%20%EB%82%A0%EC%94%A8&amp;rtmaxcoll=Z8T\" onclick='smartLog(this, \"s=TO&amp;a=Z8TO&amp;pg=1&amp;r=1&amp;rc=1&amp;p=6&amp;e=&amp;dc=Z8T&amp;d=direct_72&amp;at=link\", event);'> <span class=\"ico_ws ico_w04\" title=\"흐림\">흐림</span> <em class=\"tit_region\">창원</em> <strong class=\"num_temp\">30</strong> </a> </li>, <li class=\"city07\"> <a class=\"link_map\" href=\"?w=tot&amp;DA=Z8T&amp;q=%EC%B2%AD%EC%A3%BC%20%EC%98%A4%EB%8A%98%20%EB%82%A0%EC%94%A8&amp;rtmaxcoll=Z8T\" onclick='smartLog(this, \"s=TO&amp;a=Z8TO&amp;pg=1&amp;r=1&amp;rc=1&amp;p=6&amp;e=&amp;dc=Z8T&amp;d=direct_72&amp;at=link\", event);'> <span class=\"ico_ws ico_w09\" title=\"흐리고 비\">흐리고 비</span> <em class=\"tit_region\">청주</em> <strong class=\"num_temp\">28</strong> </a> </li>, <li class=\"city01\"> <a class=\"link_map\" href=\"?w=tot&amp;DA=Z8T&amp;q=%EC%B6%98%EC%B2%9C%20%EC%98%A4%EB%8A%98%20%EB%82%A0%EC%94%A8&amp;rtmaxcoll=Z8T\" onclick='smartLog(this, \"s=TO&amp;a=Z8TO&amp;pg=1&amp;r=1&amp;rc=1&amp;p=6&amp;e=&amp;dc=Z8T&amp;d=direct_72&amp;at=link\", event);'> <span class=\"ico_ws ico_w09\" title=\"흐리고 비\">흐리고 비</span> <em class=\"tit_region\">춘천</em> <strong class=\"num_temp\">25</strong> </a> </li>]\n",
      "  흐림 강릉 29  \n",
      "  흐림 광주 31  \n",
      "  흐리고 비 대구 29  \n",
      "  흐리고 비 대전 28  \n",
      "  흐림 목포 29  \n",
      "  구름많음 백령 25  \n",
      "  흐림 부산 30  \n",
      "  흐리고 비 서울 27  \n",
      "  흐리고 비 수원 27  \n",
      "  흐림 안동 31  \n",
      "  흐림 여수 29  \n",
      "  구름많음 울릉/독도 29  \n",
      "  흐리고 비 울산 28  \n",
      "  흐리고 비 인천 27  \n",
      "  흐리고 비 전주 29  \n",
      "  구름많음 제주 32  \n",
      "  흐림 창원 30  \n",
      "  흐리고 비 청주 28  \n",
      "  흐리고 비 춘천 25  \n"
     ]
    }
   ],
   "source": [
    "#ex_weather.py\n",
    "\n",
    "from urllib.request import urlopen\n",
    "from urllib.request import Request\n",
    "from bs4 import BeautifulSoup\n",
    "import re\n",
    "from datetime import datetime\n",
    "\n",
    "url = \"http://search.daum.net/search?nil_suggest=btn&w=tot&DA=SBC&q=%EB%82%A0%EC%94%A8\"\n",
    "user_agent = \"Mozilla/4.0 (compatible; MSIE 8.0; Windows NT 5.1; Trident/4.0; .NET CLR 2.0.50727; .NET CLR 3.0.4506.2152; .NET CLR 3.5.30729)\"\n",
    "req = Request(url)\n",
    "req.add_header(\"User-agent\", user_agent) # 헤더추가\n",
    "\n",
    "response = urlopen(req)\n",
    "print(response.info())\n",
    "the_page = response.read()\n",
    "\n",
    "bsobj = BeautifulSoup(the_page, \"html.parser\")\n",
    "#print(bsobj.prettify())\n",
    "\n",
    "# .findAll\n",
    "city = bsobj.findAll(\"li\",{\"class\":re.compile(\"city??\")})\n",
    "city_name = bsobj.findAll(\"em\",{\"class\":\"tit_region\"})\n",
    "temp = bsobj.findAll(\"strong\",{\"class\":\"num_temp\"})\n",
    "\n",
    "print(city)\n",
    "\n",
    "\n",
    "cn = []\n",
    "tmp = []\n",
    "status = []\n",
    "for citer in city:\n",
    "    cn.append(citer.em.get_text())\n",
    "    tmp.append(citer.strong.get_text())\n",
    "    status.append(citer.span.get_text())\n",
    "    print(citer.get_text())\n",
    "\n",
    "datenow = str(datetime.now()) #현재 날짜 추가\n",
    "\n",
    "f = open('/home/eumhwa/wth_current.txt', 'w')\n",
    "for i in range(0,len(cn)):\n",
    "    print(datenow, cn[i],tmp[i],status[i],sep=',',file=f) #csv파일 쓸수 있도록 콤마로 구분\n",
    "f.close()\n",
    "\n"
   ]
  },
  {
   "cell_type": "code",
   "execution_count": null,
   "metadata": {
    "collapsed": true
   },
   "outputs": [],
   "source": []
  }
 ],
 "metadata": {
  "kernelspec": {
   "display_name": "Python 3",
   "language": "python",
   "name": "python3"
  },
  "language_info": {
   "codemirror_mode": {
    "name": "ipython",
    "version": 3
   },
   "file_extension": ".py",
   "mimetype": "text/x-python",
   "name": "python",
   "nbconvert_exporter": "python",
   "pygments_lexer": "ipython3",
   "version": "3.6.1"
  }
 },
 "nbformat": 4,
 "nbformat_minor": 2
}
