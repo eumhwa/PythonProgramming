{
 "cells": [
  {
   "cell_type": "code",
   "execution_count": null,
   "metadata": {
    "collapsed": true
   },
   "outputs": [],
   "source": [
    "#4.1 코멘트 달기 :#\n",
    "#4.2 라인 유지하기: \\\n",
    "    #라인의 끝에 \\을 입력하면 파이썬은 다음라인을 여전히 같은 라인으로 인식\n",
    "alphabet = 'abcdefg' +\\\n",
    "            'hijklmnop'+\\\n",
    "            'qrstuv'+\\\n",
    "            'wxyz'\n",
    "alphabet            \n",
    "1+2+\\\n",
    "3"
   ]
  },
  {
   "cell_type": "code",
   "execution_count": null,
   "metadata": {
    "collapsed": true
   },
   "outputs": [],
   "source": [
    "#4.3 비교하기 : if, elif, else\n",
    "disaster = True\n",
    "if disaster:\n",
    "    print(\"woe!!\")\n",
    "else:\n",
    "    print(\"whee!\")\n",
    "\n",
    "#비교연산자 -> bool값 반환\n",
    "# == : 같다,  != : 다르다, in : 멤버십\n",
    "\n",
    "#4.3.1 True, False\n",
    "# False <- null , 0, 0.0, '', [], (), {}, set()\n",
    "some_list=[]\n",
    "if some_list:\n",
    "    print(\"There's somthing in here\")\n",
    "else:\n",
    "    print(\"it's empty\")\n"
   ]
  },
  {
   "cell_type": "code",
   "execution_count": 2,
   "metadata": {},
   "outputs": [
    {
     "name": "stdout",
     "output_type": "stream",
     "text": [
      "1\n",
      "2\n",
      "3\n",
      "4\n",
      "5\n",
      "String to capitalize [type q to quit]q\n",
      "Integer, please [q to quit] : q\n",
      "No even number found\n"
     ]
    }
   ],
   "source": [
    "#4.4 반복하기 : while\n",
    "count = 1\n",
    "while count <=5:\n",
    "    print(count)\n",
    "    count+=1\n",
    "\n",
    "#4.4.1 중단하기 :break\n",
    "while True:\n",
    "    stuff = input(\"String to capitalize [type q to quit]\")\n",
    "    if stuff == \"q\":\n",
    "        break\n",
    "    print(stuff.capitalize())\n",
    "\n",
    "#4.4.2 건너뛰기 : continue\n",
    "while True:\n",
    "    value = input(\"Integer, please [q to quit] : \")\n",
    "    if value == 'q':\n",
    "        break\n",
    "    number = int(value)\n",
    "    if number % 2 ==0 : \n",
    "        print(\"input another number\")\n",
    "        continue\n",
    "    print(number, \"squared is\", number*number)\n",
    "\n",
    "#4.4.3 break 확인하기 : else\n",
    "numbers = [1,3,5]\n",
    "position = 0\n",
    "while position < len(numbers):\n",
    "    number = numbers[position]\n",
    "    if number % 2 == 0:\n",
    "        print('Found even number', number)\n",
    "        break\n",
    "    position += 1\n",
    "else: #break가 호출되지 않을시\n",
    "    print('No even number found')"
   ]
  },
  {
   "cell_type": "code",
   "execution_count": 9,
   "metadata": {},
   "outputs": [
    {
     "name": "stdout",
     "output_type": "stream",
     "text": [
      "Flopsy\n",
      "Mopsy\n",
      "Cottontail\n",
      "Peter\n",
      "Flopsy\n",
      "Mopsy\n",
      "Cottontail\n",
      "Peter\n",
      "c\n",
      "a\n",
      "t\n",
      "room\n",
      "weapon\n",
      "person\n",
      "ballroom\n",
      "lead pipe\n",
      "Col. Mustard\n",
      "('room', 'ballroom')\n",
      "('weapon', 'lead pipe')\n",
      "('person', 'Col. Mustard')\n",
      "Card room has the contents ballroom\n",
      "Card weapon has the contents lead pipe\n",
      "Card person has the contents Col. Mustard\n"
     ]
    }
   ],
   "source": [
    "#4.5 순회하기 : for\n",
    "rabbits = ['Flopsy', 'Mopsy', 'Cottontail', 'Peter']\n",
    "current = 0\n",
    "while current < len(rabbits):\n",
    "    print(rabbits[current])\n",
    "    current += 1\n",
    "    \n",
    "for rabbit in rabbits:\n",
    "    print(rabbit)\n",
    "\n",
    "word = 'cat'\n",
    "for letter in word:\n",
    "    print(letter)\n",
    "    \n",
    "#딕셔너리의 순회문\n",
    "accusation = {'room':'ballroom', 'weapon':'lead pipe','person':'Col. Mustard'}\n",
    "for card in accusation:\n",
    "    print(card) #key값 가져오네\n",
    "\n",
    "for value in accusation.values(): #이렇게하면 value가져온다\n",
    "    print(value)\n",
    "    \n",
    "for item in accusation.items(): #이렇게하면 튜플형태로 키,밸류 모두 가져온다\n",
    "    print(item)\n",
    "    \n",
    "for card, contents in accusation.items(): #item이니까 튜플로 키,밸류가 있는데 이걸 순서대로 card, contents로 할당\n",
    "    print('Card',card,'has the contents', contents)\n",
    "    \n",
    "#4.5.1 중단하기 : break\n",
    "#4.5.2 건너뛰기 : continue\n",
    "#4.5.3 break 확인하기 : else"
   ]
  },
  {
   "cell_type": "code",
   "execution_count": 15,
   "metadata": {},
   "outputs": [
    {
     "name": "stdout",
     "output_type": "stream",
     "text": [
      "Mon :drink coffee - eat banana - enjoy tiramisu\n",
      "Tue :drink tea - eat orange - enjoy ice cream\n",
      "Wed :drink beer - eat peach - enjoy pie\n",
      "0\n",
      "1\n",
      "2\n"
     ]
    },
    {
     "data": {
      "text/plain": [
       "[0, 1, 2]"
      ]
     },
     "execution_count": 15,
     "metadata": {},
     "output_type": "execute_result"
    }
   ],
   "source": [
    "#4.5.4 여러 시퀀스 순회하기 : zip() - 여러 시퀀스를 병렬로 순회하는 것\n",
    "days = ['Mon','Tue','Wed']\n",
    "fruits = ['banana','orange','peach']\n",
    "drinks = ['coffee','tea','beer']\n",
    "desserts = ['tiramisu','ice cream','pie','pudding']\n",
    "for day, fruit, drink, dessert, in zip(days, fruits, drinks, desserts):\n",
    "    print(day,\":drink\", drink,\"- eat\",fruit,\"- enjoy\",dessert) #여러 시퀀스 중 가장 짧은 시퀀스가 완료되면 zip()은 끝남\n",
    "\n",
    "\n",
    "english = 'Mon', 'Tue', 'Wed'\n",
    "french = 'Lundi', 'Mardi', 'Mercredi'\n",
    "list(zip(english, french)) #zip()을 이용해 두개의 튜플 만듬\n",
    "dict(zip(english, french))\n",
    "\n",
    "#4.5.4 숫자 시퀀스 생성하기 : range()\n",
    "# range() : 리스트나 튜플 같은 자료구조를 생성하여 저장하지 않더라도 특정 범위내에서 숫자 스트림을 반환\n",
    "#           -> 컴퓨터의 메모리를 전부 사용하지 않고, 프로그램의 충돌없이 아주 큰 범위를 생성할 수 있게 함\n",
    "#           사용법 -> range(start, stop, step)\n",
    "for x in range(0,3):\n",
    "    print(x)\n",
    "list(range(0,3))\n",
    "\n",
    "\n"
   ]
  },
  {
   "cell_type": "code",
   "execution_count": 29,
   "metadata": {},
   "outputs": [
    {
     "name": "stdout",
     "output_type": "stream",
     "text": [
      "1 1\n",
      "1 2\n",
      "2 1\n",
      "2 2\n",
      "3 1\n",
      "3 2\n",
      "(1, 1)\n",
      "(1, 2)\n",
      "(2, 1)\n",
      "(2, 2)\n",
      "(3, 1)\n",
      "(3, 2)\n",
      "1 1\n",
      "1 2\n",
      "2 1\n",
      "2 2\n",
      "3 1\n",
      "3 2\n"
     ]
    }
   ],
   "source": [
    "#4.5.6 기타 이터레이터\n",
    "#4.6 컴프리헨션\n",
    "# -> 하나 이상의 이터레이터로부터 파이썬의 자료구조를 만드는 컴팩트한 방법\n",
    "#4.6.1 list comprehension\n",
    "#기존의 방법들\n",
    "number_list=[]\n",
    "number_list.append(1)\n",
    "number_list.append(2)\n",
    "number_list.append(3)\n",
    "number_list.append(4)\n",
    "number_list.append(5)\n",
    "number_list\n",
    "\n",
    "number_list=[]\n",
    "for number in range(1,6):\n",
    "    number_list.append(number)\n",
    "number_list\n",
    "\n",
    "number_list = list(range(0,6))\n",
    "number_list\n",
    "\n",
    "#list comprehension방법 -[]안에 루프문 - [표현식 for 항목 in 순회 가능한 객체 if 조건]\n",
    "number_list = [number-1 for number in range(1,6)]\n",
    "number_list\n",
    "\n",
    "#1과 5 사이에서 홀수 리스트를 만드는 새 컴프리헨션을 만들자(number%2 는 홀수일 때 True이고, 짝수일때 False\n",
    "a_list = [number for number in range(1,6) if number%2 !=0]\n",
    "a_list\n",
    "\n",
    "a_list=[]\n",
    "for number in range(1,6):\n",
    "    if number%2==1:\n",
    "        a_list.append(number)\n",
    "a_list\n",
    "\n",
    "\n",
    "#기존방법(중첩루프)\n",
    "rows = range(1,4)\n",
    "cols = range(1,3)\n",
    "for row in rows:\n",
    "    for col in cols:\n",
    "        print(row, col)\n",
    "\n",
    "#comprehension 방법 - 튜플 리스트를 만들어서 cells변수에 할당\n",
    "rows = range(1,4)\n",
    "cols = range(1,3)\n",
    "cells = [(row,col) for row in rows for col in cols]\n",
    "for cell in cells:\n",
    "    print(cell)\n",
    "\n",
    "#각 튜플로부터 row , col의 값만들 출력하기 위한 튜플 언패킹\n",
    "for row, col in cells:\n",
    "    print(row,col)"
   ]
  },
  {
   "cell_type": "code",
   "execution_count": 33,
   "metadata": {},
   "outputs": [
    {
     "data": {
      "text/plain": [
       "{1, 4}"
      ]
     },
     "execution_count": 33,
     "metadata": {},
     "output_type": "execute_result"
    }
   ],
   "source": [
    "#4.6.2 딕셔너리 컴프리헨션\n",
    "# {키_표현식: 값_표현식 for 표현식 in 순회 가능한 객체}\n",
    "word = 'letters'\n",
    "letter_cnt = {letter:word.count(letter) for letter in word} #l과 t를 두번씩 세는 비효율\n",
    "letter_cnt\n",
    "\n",
    "word = 'letters'\n",
    "letter_cnt2 = {letter:word.count(letter) for letter in set(word)} # 좀더 파이써닉한 방법 (set)\n",
    "letter_cnt2\n",
    "\n",
    "#4.6.3 셋 컴프리헨션\n",
    "# {표현식 for 표현식 in 순회 가능한 객체} -> 리스트나 딕셔너리 컴프리헨션과 비슷한 모양\n",
    "a_set = {number for number in range(1,6) if number %3 ==1}\n",
    "a_set\n"
   ]
  },
  {
   "cell_type": "code",
   "execution_count": 40,
   "metadata": {},
   "outputs": [
    {
     "data": {
      "text/plain": [
       "[1, 2, 3, 4, 5]"
      ]
     },
     "execution_count": 40,
     "metadata": {},
     "output_type": "execute_result"
    }
   ],
   "source": [
    "#4.6.4 ㅈ너레이터 컴프리헨션\n",
    "number_thing = (number for number in range(1,6)) #괄호 안의 내용 : 제너레이터 컴프리헨션 -> 제너레이터 객체를 반환\n",
    "number_thing\n",
    "type(number_thing)\n",
    "\n",
    "for number in number_thing:\n",
    "    print(number)\n",
    "    \n",
    "number_list = list(number_thing) # 제너레이터 컴프리헨션에 list()호출을 랩핑(wrapping)\n",
    "number_list #제너레이터는 한번만 실행, 따라서 바로 위 포문 실행 후 랩핑문 실행시 빈 리스트가 나옴."
   ]
  },
  {
   "cell_type": "code",
   "execution_count": 53,
   "metadata": {},
   "outputs": [
    {
     "name": "stdout",
     "output_type": "stream",
     "text": [
      "quack\n",
      "Splendid\n",
      "It's a green pepper\n",
      "It's no thing\n"
     ]
    }
   ],
   "source": [
    "#4.7 함수\n",
    "#함수는 1)정의하기(define) 2)호출하기(call) 의 두가지 작업을 수행\n",
    "\n",
    "#매개변수가 없는 함수를 정의, 호출\n",
    "def make_a_sound():\n",
    "    print('quack')\n",
    "make_a_sound()\n",
    "\n",
    "#매개변수가 없지만 True를 반환하는 함수를 정의\n",
    "def agree():\n",
    "    return True\n",
    "agree()\n",
    "\n",
    "if agree(): #조건문 안에 정의된 함수 호출\n",
    "    print('Splendid')\n",
    "else:\n",
    "    print('That was unexpected')\n",
    "\n",
    "#매개변수(anything)지정한 함수\n",
    "def echo(anything):\n",
    "    return anything +' ' + anything\n",
    "echo('Rumplestiltskin') # 인자(argument): 함수로 전달한값-> 여기서는 Rumplestiltskin\n",
    "\n",
    "def commentary(color):\n",
    "    if color=='red':\n",
    "        return \"It's a tomato.\"\n",
    "    elif color == \"green\":\n",
    "        return \"It's a green pepper\"\n",
    "    elif color == 'bee purple':\n",
    "        return \"I don't know what it is, but only bees can see it.\"\n",
    "    else:\n",
    "        return \"I've never heard of the color\" + color + \".\"\n",
    "\n",
    "comment = commentary('green')\n",
    "print(comment)\n",
    "\n",
    "#None\n",
    "thing = None\n",
    "if thing:\n",
    "    print(\"It's some thing\")\n",
    "else:\n",
    "    print(\"It's no thing\") #여기서는 none이 boolean으로 인식(False)\n",
    "\n",
    "if thing is None:   #False와 None을 구분하기위해 is 연산자 사용\n",
    "    print(\"It's nothing\")\n",
    "else: \n",
    "    print(\"It's something\") \n"
   ]
  },
  {
   "cell_type": "code",
   "execution_count": 63,
   "metadata": {},
   "outputs": [
    {
     "name": "stdout",
     "output_type": "stream",
     "text": [
      "['a']\n",
      "['a', 'b']\n",
      "['a']\n",
      "['b']\n",
      "['a']\n",
      "['b']\n"
     ]
    }
   ],
   "source": [
    "#4.7.1 위치 인자(positional arguments)\n",
    "def menu(wine, entree, dessert):\n",
    "    return {'wine':wine, 'entree':entree, 'dessert':dessert}\n",
    "menu('chardonnay', 'chicken', 'cake')\n",
    "\n",
    "\n",
    "#4.7.2 키워드 인자 \n",
    "#위치 인자의 혼동을 피하기 위해 매개변수에 상응하는 이름을 인자에 지정, 인자를 함수의 정의와 다른순서로 지정도 가능\n",
    "menu(entree='beef', dessert='bagel', wine='bordeaux')\n",
    "\n",
    "#위치인자와 키워드인자 섞어서 쓰기\n",
    "menu('frontnac', dessert='flan', entree='fish') #단, 위치인자가 키워드인자보다 앞에 와야한다.\n",
    "\n",
    "#4.7.3 기본 매개변수값 지정하기\n",
    "def menu(wine, entree, dessert='pudding'):\n",
    "    return {'wine':wine, 'entree':entree, 'dessert':dessert}\n",
    "\n",
    "menu('chardonnay', 'chicken')\n",
    "menu('dunkelfelder', 'duck', 'doughnut') # 기본값 대신 입력한 인자 사용\n",
    "\n",
    "def buggy(arg, result=[]):\n",
    "    result.append(arg)\n",
    "    print(result)\n",
    "buggy('a')\n",
    "buggy('b') #['b']를 기대했지만 이전의 a까지 함께 나온다-> 이를 위해 아래와 같이 코드 수정\n",
    "\n",
    "def works(arg):\n",
    "    result=[]\n",
    "    result.append(arg)\n",
    "    print(result)\n",
    "works('a')\n",
    "works('b') #성공 -> 아래는 또다른 방법\n",
    "\n",
    "def nonbuggy(arg, result=None):\n",
    "    if result is None:\n",
    "        result=[]\n",
    "    result.append(arg)\n",
    "    print(result)\n",
    "nonbuggy('a')\n",
    "nonbuggy('b')"
   ]
  },
  {
   "cell_type": "code",
   "execution_count": 68,
   "metadata": {},
   "outputs": [
    {
     "name": "stdout",
     "output_type": "stream",
     "text": [
      "Positional argument tuple: ()\n",
      "Positional argument tuple: (3, 2, 1, 'wait', 'uh...')\n",
      "Need this one :  cap\n",
      "Need this one :  gloves\n",
      "All the rest :  ('scarf', 'monocle', 'mustache wax')\n",
      "Keyword arguments: {'wine': 'merlot', 'entree': 'mutton', 'dessert': 'macaroon'}\n"
     ]
    }
   ],
   "source": [
    "#4.7.4 위치 인자 모으기 : *\n",
    "#*는 매개변수에서 위치인자 변수들을 튜플로 묶는다\n",
    "def print_args(*args):\n",
    "    print('Positional argument tuple:', args)\n",
    "print_args() # 함수를 인자없이 호출하면 *args에는 아무것도 없다\n",
    "\n",
    "print_args(3,2,1,'wait','uh...')\n",
    "\n",
    "def print_more(required1, required2, *args):\n",
    "    print('Need this one : ', required1)\n",
    "    print('Need this one : ', required2)\n",
    "    print('All the rest : ', args)\n",
    "print_more('cap','gloves','scarf','monocle','mustache wax')\n",
    "\n",
    "\n",
    "#4.7.5 키워드 인자 모으기 : **\n",
    "#키워드 인자를 딕셔너리로 묶기 위해 두개의 **를 사용\n",
    "def print_kwargs(**kwargs):\n",
    "    print('Keyword arguments:', kwargs)\n",
    "print_kwargs(wine='merlot', entree='mutton', dessert='macaroon')\n",
    "\n",
    "#위치 매개변수와 *args, **kwargs를 섞어 사용하려면 이들을 순서대로 배치해야 함."
   ]
  },
  {
   "cell_type": "code",
   "execution_count": 74,
   "metadata": {},
   "outputs": [
    {
     "name": "stdout",
     "output_type": "stream",
     "text": [
      "aa\n",
      "Help on function echo in module __main__:\n",
      "\n",
      "echo(anything)\n",
      "    echo returns its input argument\n",
      "\n",
      "echo returns its input argument\n"
     ]
    }
   ],
   "source": [
    "#4.7.6 docstring : 함수 몸체 시작부분에 문자열을 포함시켜 함수 정의에 문서를 붙이는 것\n",
    "def echo(anything):\n",
    "    'echo returns its input argument'\n",
    "    return anything\n",
    "echo('aa')\n",
    "\n",
    "#docstring은 길게 작성가능하며, 서식(formatting)을 추가할수도 있다.\n",
    "def print_if_true(thing, check):\n",
    "    '''\n",
    "    Prints the first argument if a second argument is true.\n",
    "    The operation is:\n",
    "        1. Check whether the *second* argument is true.\n",
    "        2. If it is, print the *first* argument.\n",
    "    '''\n",
    "    if check:\n",
    "        print(thing)\n",
    "print_if_true('aa',True)\n",
    "\n",
    "#함수의 docstring을 출력하려면 help() 함수를 호출한다.\n",
    "help(echo)\n",
    "\n",
    "#서식없는 docstring을 보고 싶다면 다음과 같이한다.\n",
    "print(echo.__doc__) #__doc__: docstirng의 내부 이름인 함수 내의 변수\n"
   ]
  },
  {
   "cell_type": "code",
   "execution_count": 82,
   "metadata": {},
   "outputs": [
    {
     "name": "stdout",
     "output_type": "stream",
     "text": [
      "42\n",
      "42\n",
      "ab\n",
      "14\n"
     ]
    },
    {
     "data": {
      "text/plain": [
       "10"
      ]
     },
     "execution_count": 82,
     "metadata": {},
     "output_type": "execute_result"
    }
   ],
   "source": [
    "#4.7.7 일등 시민 : 함수\n",
    "#일등 시민의 뜻: 함수를 변수에 할당할 수 있고, 다른함수에서 이를 인자로 쓸 수 있고, 함수에서 이를 반환할 수 있다는 것\n",
    "def answer():\n",
    "    print(42)\n",
    "answer()\n",
    "\n",
    "def run_something(func):\n",
    "    func()\n",
    "\n",
    "run_something(answer)\n",
    "\n",
    "def add_args(arg1, arg2):\n",
    "    print(arg1+arg2)\n",
    "type(add_args)\n",
    "add_args('a','b')\n",
    "\n",
    "def run_something_with_args(func, arg1, arg2):\n",
    "    func(arg1,arg2)\n",
    "\n",
    "run_something_with_args(add_args,5,9)\n",
    "\n",
    "#*args, **kwargs인자와 결합해서 사용가능\n",
    "def sum_args(*args):\n",
    "    return sum(args)\n",
    "def run_with_positional_args(func,*args):\n",
    "    return func(*args)\n",
    "run_with_positional_args(sum_args,1,2,3,4)\n"
   ]
  },
  {
   "cell_type": "code",
   "execution_count": 93,
   "metadata": {},
   "outputs": [
    {
     "data": {
      "text/plain": [
       "\"We are the knights who say : 'Duck'\""
      ]
     },
     "execution_count": 93,
     "metadata": {},
     "output_type": "execute_result"
    }
   ],
   "source": [
    "#4.7.8 내부함수\n",
    "def outer(a,b):\n",
    "    def inner(c,d):\n",
    "        return c+d\n",
    "    return inner(a,b)\n",
    "outer(4,7)\n",
    "#내부함수는 루프나 코드중복을 피하기 위해 또 다른 함수 내에 어떤 복잡한 작업을 여러번 수행할 때 유용\n",
    "\n",
    "def knights(saying):\n",
    "    def inner(quote):\n",
    "        return \"We are the knights who say: '%s'\" %quote\n",
    "    return inner(saying)\n",
    "knights('Ni!')\n",
    "\n",
    "\n",
    "#4.7.9 클로져\n",
    "#내부함수는 closure처럼 행동할 수 있다. 클로져는 다른함수에 의해 동적으로 생성\n",
    "#바깥 함수로부터 생성된 변수값을 변경하고, 저장할 수 있는 함수\n",
    "def knights2(saying):\n",
    "    def inner2():\n",
    "        return \"We are the knights who say : '%s'\" %saying\n",
    "    return inner2 #inner2() 함수 이름을 호출하지 않고, 이를 반환\n",
    "a = knights2('Duck')\n",
    "b = knights2('Hasenpfeffer')\n",
    "type(a) # class 'function'\n",
    "a #함수지만 클로져이기도 하다.\n",
    "a() # 이를 호출하면 knights2()함수에 전달되어 사용된 saying을 기억한다\n",
    "\n"
   ]
  },
  {
   "cell_type": "code",
   "execution_count": 95,
   "metadata": {},
   "outputs": [
    {
     "name": "stdout",
     "output_type": "stream",
     "text": [
      "Thud!\n",
      "Meow!\n",
      "Thud!\n",
      "Hiss!\n",
      "Thud!\n",
      "Meow!\n",
      "Thud!\n",
      "Hiss!\n"
     ]
    }
   ],
   "source": [
    "#4.7.10 익명함수: lambda()\n",
    "#lambda function은 단일문으로 표현되는 익명함수(anonymous function)이다.\n",
    "#람다는 많은 작은 함수를 정의하고, 이들을 호출해서 얻은 모든 결과같을 저장해야 하는 경우에 유용\n",
    "#특히 콜백함수를 정의하는 GUI에서 람다를 사용할 수 있다\n",
    "def edit_story(words, func):\n",
    "    for word in words:\n",
    "        print(func(word))\n",
    "stairs = ['thud', 'meow', 'thud', 'hiss']\n",
    "def enliven(word):\n",
    "    return word.capitalize() + '!' # 첫글자를 대문자로 만들고 느낌표 붙이기\n",
    "\n",
    "edit_story(stairs, enliven)\n",
    "\n",
    "#람다를 사용\n",
    "edit_story(stairs, lambda word: word.capitalize()+ '!')"
   ]
  },
  {
   "cell_type": "code",
   "execution_count": 104,
   "metadata": {},
   "outputs": [
    {
     "data": {
      "text/plain": [
       "<generator object my_range at 0x7f9b2de80830>"
      ]
     },
     "execution_count": 104,
     "metadata": {},
     "output_type": "execute_result"
    }
   ],
   "source": [
    "#4.8 제너레이터\n",
    "#파이썬의 시퀀스를 생성하는 객체 \n",
    "#전체 시퀀스를 한번에 메모리에 생성하고 정렬할 필요없이, 잠재적으로 아주 큰 시퀀스를 순회할 수 있다.\n",
    "sum(range(1,101))\n",
    "#제너레이터를 순회할 때마다 마지막으로 호출된 항목을 기억하고 다음값을 반환\n",
    "#잠재적으로 큰 시퀀스를 생성하고, 제너레이터 컴프리헨션에 대한 코드가 아주 긴 경우에는 제너레이터 함수를 사용하면 된다\n",
    "#이는 일반함수지만 return문이 아닌 yeild문으로 값을 반환.\n",
    "def my_range(first=0, last=10, step=1):\n",
    "    number = first\n",
    "    while number < last:\n",
    "        yield number\n",
    "        number += step\n",
    "my_range\n",
    "ranger = my_range(1,5)\n",
    "ranger #제너레이터 객체 반환\n",
    "for x in ranger:\n",
    "    print(x)"
   ]
  },
  {
   "cell_type": "code",
   "execution_count": 109,
   "metadata": {},
   "outputs": [
    {
     "name": "stdout",
     "output_type": "stream",
     "text": [
      "Running function : add_ints\n",
      "Positional arguments (3, 5)\n",
      "Keyword arguments {}\n",
      "Result: 8\n",
      "Running function : add_ints\n",
      "Positional arguments (3, 5)\n",
      "Keyword arguments {}\n",
      "Result: 8\n",
      "Running function : new_function\n",
      "Positional arguments (3, 5)\n",
      "Keyword arguments {}\n",
      "Result: 64\n",
      "Running function : add_ints\n",
      "Positional arguments (3, 5)\n",
      "Keyword arguments {}\n",
      "Result: 8\n"
     ]
    },
    {
     "data": {
      "text/plain": [
       "64"
      ]
     },
     "execution_count": 109,
     "metadata": {},
     "output_type": "execute_result"
    }
   ],
   "source": [
    "#4.9 데커레이터 \n",
    "#하나의 함수를 취해서 또 다른 함수를 반환하는 함수 \n",
    "#데커레이터의 키포인트 - 1)*args와 **kwargs ,2)내부함수, 3)함수인자\n",
    "\n",
    "def document_it(func):\n",
    "    def new_function(*args, **kwargs):\n",
    "        print('Running function :', func.__name__)\n",
    "        print('Positional arguments', args)\n",
    "        print('Keyword arguments', kwargs)\n",
    "        result = func(*args, **kwargs)\n",
    "        print('Result:', result)\n",
    "        return result\n",
    "    return new_function\n",
    "\n",
    "#임의의 함수만들기\n",
    "def add_ints(a,b):\n",
    "    return a+b;\n",
    "cooler_add_ints = document_it(add_ints) #데커레이터를 수동으로 할당\n",
    "cooler_add_ints(3,5)\n",
    "\n",
    "#데커레이터를 수동으로 할당하는 대신, 함수에 @데커레이터_이름 을 추가하여 사용가능\n",
    "@document_it\n",
    "def add_ints(a,b):\n",
    "    return a+b\n",
    "add_ints(3,5)\n",
    "\n",
    "\n",
    "#함수는 여러개의 데커레이터를 가질 수 있다.\n",
    "#결과를 제곱하는 데커레이터 작성\n",
    "def square_it(func):\n",
    "    def new_function(*args, **kwargs):\n",
    "        result = func(*args, **kwargs)\n",
    "        return result*result\n",
    "    return new_function\n",
    "\n",
    "#데커레이터 순서를 통해 결과 비교해보기\n",
    "#1)\n",
    "@document_it\n",
    "@square_it\n",
    "def add_ints(a,b):\n",
    "    return a+b\n",
    "add_ints(3,5)  ## 결과 : 64 -> 함수에서 가까운 데커레이터 적용\n",
    "\n",
    "#2)\n",
    "@square_it\n",
    "@document_it\n",
    "def add_ints(a,b):\n",
    "    return a+b\n",
    "add_ints(3,5) ## 결과 : 8 -> 역시 함수에 가까운 데커레이터 적용\n",
    "\n",
    "\n"
   ]
  },
  {
   "cell_type": "code",
   "execution_count": 137,
   "metadata": {},
   "outputs": [
    {
     "name": "stdout",
     "output_type": "stream",
     "text": [
      "at the top level: fruitbat\n",
      "inside print_global: fruitbat\n",
      "inside change_local: wombat 140304466979952\n",
      "inside change_and_print_global: wombat\n"
     ]
    },
    {
     "data": {
      "text/plain": [
       "'wombat'"
      ]
     },
     "execution_count": 137,
     "metadata": {},
     "output_type": "execute_result"
    }
   ],
   "source": [
    "#4.10 네임스페이스와 스코프\n",
    "#네임스페이스는 특정 이름이 유일하고, 다른 네임스페이스에서의 같은 이름과 관계가 없는것을 말함\n",
    "\n",
    "#전역변수 animal선언\n",
    "animal = 'fruitbat'\n",
    "def print_global():\n",
    "    print('inside print_global:', animal)    \n",
    "    \n",
    "print('at the top level:', animal)\n",
    "print_global()\n",
    "\n",
    "#함수에서 전역변수의 값을 얻어서 바꾸려 하면 에러!!\n",
    "#def change_and_print_global():\n",
    "#    print('inside change_and_print_global:', animal)\n",
    "#    animal = 'wombat'  #전역변수 수정시도\n",
    "#    print('after the change:', animal)\n",
    "\n",
    "#chage_and_print_global() ##error!!\n",
    "\n",
    "#전역변수를 바꾸려 한다면, 또 다른 이름의 animal변수를 변경한다\n",
    "def change_local():\n",
    "    animal = 'wombat'\n",
    "    print('inside change_local:', animal, id(animal))\n",
    "change_local()\n",
    "animal\n",
    "#id(animal) #change_local()의 id값과 다름\n",
    "\n",
    "#함수 내의 지역변수가 아닌 전역변수를 접근하기 위해 global키워드를 사용해서 전역변수의 접근을 명시해야함\n",
    "animal = 'fruitbat'\n",
    "def change_and_print_global():\n",
    "    global animal\n",
    "    animal = 'wombat'\n",
    "    print('inside change_and_print_global:', animal)\n",
    "animal #fruitbat\n",
    "change_and_print_global() #wombat\n",
    "animal #wombat\n",
    "\n"
   ]
  },
  {
   "cell_type": "code",
   "execution_count": null,
   "metadata": {
    "collapsed": true
   },
   "outputs": [],
   "source": [
    "#1111"
   ]
  }
 ],
 "metadata": {
  "kernelspec": {
   "display_name": "Python 3",
   "language": "python",
   "name": "python3"
  },
  "language_info": {
   "codemirror_mode": {
    "name": "ipython",
    "version": 3
   },
   "file_extension": ".py",
   "mimetype": "text/x-python",
   "name": "python",
   "nbconvert_exporter": "python",
   "pygments_lexer": "ipython3",
   "version": "3.6.1"
  }
 },
 "nbformat": 4,
 "nbformat_minor": 2
}
