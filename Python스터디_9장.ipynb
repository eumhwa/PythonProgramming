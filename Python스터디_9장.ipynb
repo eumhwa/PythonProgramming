{
 "cells": [
  {
   "cell_type": "code",
   "execution_count": 4,
   "metadata": {},
   "outputs": [
    {
     "name": "stdout",
     "output_type": "stream",
     "text": [
      "<http.client.HTTPResponse object at 0x7f4878088b70>\n",
      "b'[{\"ID\":2450,\"title\":\"Paula Scher\",\"content\":\"<p>Less is more and more is more. It\\\\u2019s the middle that\\\\u2019s not a good place.<\\\\/p>\\\\n\",\"link\":\"https:\\\\/\\\\/quotesondesign.com\\\\/paula-scher-4\\\\/\"}]'\n",
      "200\n",
      "application/json; charset=UTF-8\n",
      "Server nginx\n",
      "Date Tue, 15 Aug 2017 15:19:39 GMT\n",
      "Content-Type application/json; charset=UTF-8\n",
      "Content-Length 194\n",
      "Connection close\n",
      "X-Powered-By PHP/5.4.13\n",
      "X-Content-Type-Options nosniff\n",
      "Link </wp-json/posts?page=2>; rel=\"next\", <https://quotesondesign.com/wp-json/posts/2450>; rel=\"item\"; title=\"Paula Scher\"\n",
      "X-WP-Total 1060\n",
      "X-WP-TotalPages 1060\n",
      "Last-Modified Fri, 28 Apr 2017 17:44:57 GMT\n",
      "X-Powered-By PleskLin\n"
     ]
    }
   ],
   "source": [
    "#9.1.2 파이썬 표준 웹 라이브러리\n",
    "import urllib.request as ur\n",
    "url = 'http://quotesondesign.com/wp-json/posts'\n",
    "conn = ur.urlopen(url) # 이 url은 포춘쿠키와 유사한 임의의 텍스트 문장을 반환\n",
    "print(conn) \n",
    "\n",
    "data = conn.read() #read() 메서드는 웹페이지로부터 데이터를 읽어온다 \n",
    "print(data)\n",
    "# -> 이 코드로 1)원격 인용구 서버에 TCP/IP 커넥션을 열었고, 2)HTTP요청을 만들엇고, 3)HTTP응답을 받았다.\n",
    "# ID, title, content(페이지 포춘 데이터) 이외의 데이터들이 포함되어있다\n",
    "\n",
    "print(conn.status) # HTTP 상태코드 -> 200 : 성공적으로 처리됨\n",
    "\n",
    "#웹서버는 원하는 포맷으로 데이터를 전송할 수 있다.\n",
    "#일반적으로는 HTML(or CSS or javascript)를 전송 but 포춘쿠키에 대한 예제는 json포맷\n",
    "#데이터 포맷은 telnet에서 본 듯이 HTTP헤더의 Content-Type 값에 있다.\n",
    "\n",
    "print(conn.getheader('Content-Type'))\n",
    "#application/json 문자열은 MIME(Multipurpose Internet Mail Extensions) 타입이다.\n",
    "#MIME타입은 google.com 예제에서 본 text/html이다.\n",
    "\n",
    "\n",
    "#파이썬 라이브러리는 모든 HTTP 응답 헤더를 파싱하여 딕셔너리로 제공\n",
    "for key, value in conn.getheaders():\n",
    "    print(key, value)\n"
   ]
  },
  {
   "cell_type": "code",
   "execution_count": null,
   "metadata": {
    "collapsed": true
   },
   "outputs": [],
   "source": [
    "#HTTP 응답코드 정리\n",
    "# 1xx (조건부 응답): 서버는 요청을 받았지만, 클라이언트에 대한 몇가지 추가 정보가 필요 \n",
    "# 2xx (성공): 성공적으로 처리, 200 이외의 모든 성공 코드는 추가사항을 전달한다\n",
    "# 3xx (리다이렉션): 리소스가 이전되어 클라이언트에 새로운 URL을 응답해준다\n",
    "# 4xx (클라이언트 에러): 자주 발생하는 404(찾을수없음)는 클라이언트 측에 문제가 있음을 나타냄.\n",
    "# 5xx (서버 에러): 500은 서버에러, 웹서버와 백엔드 애플리케이션 서버가 연결되어 있지 않다면 502(불량게이트웨이)"
   ]
  },
  {
   "cell_type": "code",
   "execution_count": 7,
   "metadata": {},
   "outputs": [
    {
     "name": "stdout",
     "output_type": "stream",
     "text": [
      "[{\"ID\":2450,\"title\":\"Paula Scher\",\"content\":\"<p>Less is more and more is more. It\\u2019s the middle that\\u2019s not a good place.<\\/p>\\n\",\"link\":\"https:\\/\\/quotesondesign.com\\/paula-scher-4\\/\"}]\n"
     ]
    }
   ],
   "source": [
    "#9.1.3 표준 라이브러리를 넘서어 : Requests\n",
    "#$ pip install requests ->requests 패키지의 최신버전 설치\n",
    "\n",
    "#requests 모듈을 사용하면 웹 클라이언트 개발이 더쉬워짐\n",
    "import requests\n",
    "url = 'http://quotesondesign.com/wp-json/posts'\n",
    "resp = requests.get(url)\n",
    "resp\n",
    "\n",
    "print(resp.text) #urllib.request.urlopen 모듈을 사용한 것과 차이는 없지만, 코드가 더 간편하다\n"
   ]
  },
  {
   "cell_type": "code",
   "execution_count": null,
   "metadata": {
    "collapsed": true
   },
   "outputs": [],
   "source": [
    "#9.2 웹서버\n",
    "#파이썬은 웹서버와 서버 사이드 프로그램을 작성하는 데 뛰어난 언어\n",
    "#다양한 프레임워크 존재(bottle, flask 등등)\n",
    "\n",
    "#웹 프레임워크는 웹사이트를 구축할 수 있는 기능 제공\n",
    "#-> 단순한 웹(HTTP) 서버 보다 더 많은 작업 수행 -> 라우팅(서버함수의 URL), 템플릿(HTML을 동적으로 생성), 디버깅\n"
   ]
  },
  {
   "cell_type": "code",
   "execution_count": null,
   "metadata": {
    "collapsed": true
   },
   "outputs": [],
   "source": [
    "#9.2.1 간단한 파이썬 웹서버\n",
    "#웹서버 실행코드\n",
    "# python -m http.server\n",
    "# 결과 :Serving HTTP on 0.0.0.0 port 8000 (http://0.0.0.0:8000/) ...\n",
    "# 0.0.0.0 : 모든 TCP 주소를 의미 \n",
    "# 웹클라이언트는 서버가 어떤 주소를 가졌든 상관없이 그곳에 접근할 수 있다.\n",
    "\n",
    "#웹 브라우저에 http://localhost:8000 입력하면\n",
    "#터미널에 127.0.0.1 - - [12/Aug/2017 19:39:58] \"GET / HTTP/1.1\" 200 - 출력\n",
    "\n",
    "#localhost와 127.0.0.1 은 로컬 컴퓨터에 대한 TCP 동의어다\n",
    "#그래서 인터넷 연결과 상관없이 명령이 실행\n",
    "\n",
    "#127.0.0.1 - - [12/Aug/2017 19:39:58] \"GET / HTTP/1.1\" 200 - 해석\n",
    " #1) 127.0.0.1 : 클라이언트 IP주소\n",
    " #2) 첫번째 '-' : 원격사용자 이름(발견된 경우)\n",
    " #3) 두번째 '-' : 로그인 사용자 이름(요구한 경우)\n",
    " #4) [12/Aug/2017 19:39:58] : 접근한 날짜,시간\n",
    " #5) \"GET / HTTP/1.1\" : 웹서버로 보내는 명령 -> HTTP 메서드(GET), 리소스요청(/), HTTP버전(HTTP/1.1)\n",
    " #6) 200 : 웹서버로부터 반환된 HTTP 상태코드\n",
    "\n",
    "#localhost:8000 에 있는 리스트 아무거나 누르고 터미널 확인\n",
    "#서버는 요청에 대한 로그를 기록 -> 127.0.0.1 - - [12/Aug/2017 19:56:08] \"GET /Videos/ HTTP/1.1\" 200 - (videos 클릭시 출력)\n",
    "\n",
    "#python -m http.server 9999 : 기본 포트는 8000이지만 다른 포트 번호를 지정할 수 있다.\n",
    "\n",
    "#이 기본 서버를 실제 웹사이트에서 사용하면 안된다, \n",
    "#아파치, 엔진엑스 같은 전통적인 웹서버는 정적 파일을 더 빠르게 제공\n",
    "#간단한 기본 서버는 대규모의 서버들이 매개변수를 받아서 동적인 콘텐츠를 처리하는 일을 수행할 수 없다.\n"
   ]
  },
  {
   "cell_type": "code",
   "execution_count": null,
   "metadata": {
    "collapsed": true
   },
   "outputs": [],
   "source": [
    "#9.2.2 웹서버 게이트웨이 인터페이스\n",
    "#동적으로 프로그램을 실행하는 웹서버가 필요하다\n",
    "\n",
    "#공용 게이트웨이 인터페이스(CGI) -웹 초기 시절\n",
    " #클라이언트를 위해 웹서버가 외부 프로그램을 실행 -> 그 결과를 반환 하도록 설계\n",
    " #CGI는 클라이언트에서 받은 입력 인자를 서버를 통해 처리하여 외부 프로그램으로 전달\n",
    " #->프로그램은 각 클라이언트의 접근을 위해 처음부터 다시 시작 => 이러한 접근 방식은 확장성을 떨어뜨림 -> 작은 프로그램에도 상당 시간 소요\n",
    "\n",
    "#-> 이런 시동 지연을 피하기 위해 웹서버에 '인터프리터'를 두기 시작\n",
    "#아파치는 mod_php모듈 내에서는 PHP, mod_perl 모듈 내에서는 펄, mod_python 모듈 내에서는 파이썬 실행\n",
    "#이러한 동적언어의 코드는 외부프로그램이 아닌 장기적으로 작동하는 아파치 프로세스 내에서 실행\n",
    "\n",
    "#-> 또 다른 방법은 별도의 장기적으로 작동하는 프로그램 내에서 동적언어를 실행하고, 웹서버와 통신(FastCGI, SCGI)\n",
    "\n",
    "#파이썬 웹 개발은 파이썬 웹 애플리케이션과 웹서버 간의 범용적인 API인 웹 서버 게이트웨이 인터페이스(WSGI)의 정의서 부터 시작\n"
   ]
  },
  {
   "cell_type": "code",
   "execution_count": null,
   "metadata": {
    "collapsed": true
   },
   "outputs": [],
   "source": [
    "#프레임워크\n",
    "#웹서버는 HTTP와 WSGI의 세부사항을 처리\n",
    "#반면, 프레임워크를 사용한다면 파이썬코드를 작성하여 강력한 웹사이트를 만들 수 있다.\n",
    "\n",
    "#웹 프레임워크는 최소한 클라이언트의 요청과 서버의 응답을 처리 \n",
    "#웹프레임워크가 제공하는 기능\n",
    " #1)라우트 :URL을 해석하여 해당 서버의 파일이나 파이썬 코드를 찾아준다\n",
    " #2)템플릿 :서버사이드의 데이터를 HTML페이지에 병합\n",
    " #3)인증 및 권한 : 사용자 이름과 비밀번호, 퍼미션(허가)를 처리\n",
    " #4)세션 : 웹사이트에 방문하는 동안 사용자의 임시 데이터를 유지\n"
   ]
  },
  {
   "cell_type": "code",
   "execution_count": null,
   "metadata": {
    "collapsed": true
   },
   "outputs": [],
   "source": [
    "#9.2.4 Bottle\n",
    "#설치 : pip install bottle\n",
    "\n",
    "#bottle1.py ->문자열 리턴 이용\n",
    "from bottle import route, run\n",
    "\n",
    "@route('/') #홈페이지뜻함\n",
    "def home():\n",
    "    return \"It isn't fancy, but it's my home page\"\n",
    "\n",
    "run(host='localhost', port = 9999) #bottle의 내장된 파이썬 테스트 웹 서버를 실행 -> 초기 개발 및 테스트에 유용\n",
    "                                   #run()함수에 사용가능한 인자 : 1) debug = True : HTTP에러 발생하면 디버깅 페이지 생성\n",
    "                                                             #2)reloader=True : 파이썬 코드가 변경되면 변경된 코드 다시 불러옴\n",
    "\n",
    "#브라우저에서 http://localhost:9999 접속시 위 텍스트를 반환\n"
   ]
  },
  {
   "cell_type": "code",
   "execution_count": null,
   "metadata": {},
   "outputs": [
    {
     "name": "stderr",
     "output_type": "stream",
     "text": [
      "Bottle v0.12.13 server starting up (using WSGIRefServer())...\n",
      "Listening on http://localhost:9999/\n",
      "Hit Ctrl-C to quit.\n",
      "\n"
     ]
    }
   ],
   "source": [
    "#bottle2.py ->html파일 이용\n",
    "from bottle import route, run, static_file\n",
    "\n",
    "@route('/')\n",
    "def main():\n",
    "    return static_file('index.html', root = '.') #root가 가리키는 디렉토리에서 index.html파일의 내용을 반환\n",
    "\n",
    "run(host='localhost', port=9999)\n",
    "\n",
    "#html에 b태크는 굵은 글씨체(bold), i는 기울인 글체(이탤릭체)"
   ]
  },
  {
   "cell_type": "code",
   "execution_count": null,
   "metadata": {
    "collapsed": true
   },
   "outputs": [],
   "source": [
    "#bottle3.py ->URL에 인자를 전달하여 사용하는 방법\n",
    "from bottle import route, run, static_file\n",
    "\n",
    "@route('/')\n",
    "def home():\n",
    "    return static_file('index.html', root = '.')\n",
    "\n",
    "@route('/echo/<thing>')  #echo 뒤에 오는 URL의 문자열을 thing에 할당-> echo 함수에 전달\n",
    "def echo(thing):                    #echo()함수는 URL에서 문자열 인자를 전달받는다\n",
    "    return \"Say hello to my little friend: %s!\"%thing\n",
    "\n",
    "run(host='localhost', port=9999)"
   ]
  },
  {
   "cell_type": "code",
   "execution_count": null,
   "metadata": {
    "collapsed": true
   },
   "outputs": [],
   "source": [
    "#bottle_test.py\n",
    "import requests \n",
    "resp = requests.get('http://localhost:9999/echo/eumhwa')\n",
    "\n",
    "if resp.status_code == 200 and resp.text == 'Say hello to my little friend: eumhwa!':\n",
    "    print('It worked! That almost never happens')\n",
    "else:\n",
    "    print('Argh, got this:', resp.text)"
   ]
  },
  {
   "cell_type": "code",
   "execution_count": null,
   "metadata": {
    "collapsed": true
   },
   "outputs": [],
   "source": [
    "#9.2.5 Flask\n",
    "#Bottle 보다 더 많은 기능 \n",
    "#Bottle과 같이 간단하게 사용할 수 있지만, 페이스북 인증과 데이터베이스 연결과 같이 전문적인 웹 개발에 유용한 많은 확장기능 지원\n",
    "\n",
    "#두가지 참조사항\n",
    "#1) Flask의 정적 파일에 대한 기본 홈 디렉토리는 static이다.\n",
    "#   그리고 파일에 대한 URL 또한 /static으로 시작한다.\n",
    "#   폴더를 '.'(현재 디렉토리)로, URL 접두사를 ''(빈문자열)로 바꿔서 URL/를 index.html파일에 매핑할 수 있다.\n",
    "\n",
    "#2) run()함수에서 debug=True는 서버의 코드를 다시 불러온다.\n",
    "#   Bottle에서는 디버깅과 코드를 다시 불러오는 인자가 분리되어 있다.\n"
   ]
  },
  {
   "cell_type": "code",
   "execution_count": null,
   "metadata": {},
   "outputs": [
    {
     "name": "stderr",
     "output_type": "stream",
     "text": [
      "127.0.0.1 - - [14/Aug/2017 21:57:56] \"GET / HTTP/1.1\" 200 -\n",
      "127.0.0.1 - - [14/Aug/2017 21:57:56] \"GET / HTTP/1.1\" 200 -\n",
      "127.0.0.1 - - [14/Aug/2017 21:57:56] \"GET / HTTP/1.1\" 200 -\n",
      "127.0.0.1 - - [14/Aug/2017 21:58:13] \"GET / HTTP/1.1\" 200 -\n",
      "127.0.0.1 - - [14/Aug/2017 21:58:13] \"GET /favicon.ico HTTP/1.1\" 404 -\n",
      "127.0.0.1 - - [14/Aug/2017 21:58:20] \"GET /echo/kaka HTTP/1.1\" 200 -\n"
     ]
    }
   ],
   "source": [
    "#flask1.py\n",
    "from flask import Flask\n",
    "app =  Flask(__name__, static_folder='.', static_url_path='')\n",
    "\n",
    "@app.route('/')\n",
    "def home():\n",
    "    return app.send_static_file('index.html')\n",
    "\n",
    "@app.route('/echo/<thing>')\n",
    "def echo(thing):\n",
    "    return \"Say hello to my little friend: %s\"%thing\n",
    "\n",
    "app.run(port=9999)"
   ]
  },
  {
   "cell_type": "code",
   "execution_count": null,
   "metadata": {},
   "outputs": [
    {
     "name": "stderr",
     "output_type": "stream",
     "text": [
      " * Running on http://127.0.0.1:9999/ (Press CTRL+C to quit)\n",
      "127.0.0.1 - - [14/Aug/2017 22:53:50] \"GET /echo/ronaldo HTTP/1.1\" 200 -\n"
     ]
    }
   ],
   "source": [
    "#flask2.py\n",
    "#jinja2 : bottle에는 없는 더 광범위한 템플릿 시스템\n",
    "#templates 디렉토리 생성하고 flask2.html 파일 저장\n",
    "from flask import Flask, render_template\n",
    "\n",
    "app = Flask(__name__)\n",
    "\n",
    "@app.route('/echo/<thing>')\n",
    "def echo(thing):\n",
    "    return render_template('flask2.html', thing=thing)\n",
    "\n",
    "app.run(port=9999)\n"
   ]
  },
  {
   "cell_type": "code",
   "execution_count": null,
   "metadata": {},
   "outputs": [
    {
     "name": "stderr",
     "output_type": "stream",
     "text": [
      " * Running on http://127.0.0.1:9999/ (Press CTRL+C to quit)\n",
      "127.0.0.1 - - [14/Aug/2017 23:30:01] \"GET /echo/uma/seoul HTTP/1.1\" 200 -\n"
     ]
    }
   ],
   "source": [
    "#flask3a.py\n",
    "#두번째 인자를 echo URL에 전달하기\n",
    "\n",
    "from flask import Flask, render_template\n",
    "\n",
    "app = Flask(__name__)\n",
    "\n",
    "@app.route('/echo/<thing>/<place>')\n",
    "def echo(thing, place):\n",
    "    return render_template('flask3.html', thing= thing, place=place)\n",
    "\n",
    "app.run(port=9999)"
   ]
  },
  {
   "cell_type": "code",
   "execution_count": null,
   "metadata": {
    "collapsed": true
   },
   "outputs": [],
   "source": [
    "#flask3b.py -> GET매개변수로 인자 제공\n",
    "from flask import Flask, render_template, request\n",
    "\n",
    "app = Flask(__name__)\n",
    "\n",
    "@app.route('/echo/')\n",
    "def echo():\n",
    "    thing = request.args.get('thing')\n",
    "    place = request.args.get('place')\n",
    "    return render_template('flask3.html', thing=thing, place=place)\n",
    "\n",
    "app.run(port=9999)\n",
    "#http://localhost:9999/echo?thing=Gorgo&place=Wilmerding\n",
    "\n",
    "#GET 명령이 URL에 사용되는 경우 인자가 &key1=val1&key2=val2&... 형태로 전달"
   ]
  },
  {
   "cell_type": "code",
   "execution_count": null,
   "metadata": {
    "collapsed": true
   },
   "outputs": [],
   "source": [
    "#flask3c.py -> 딕셔너리 ** 연산자를 사용해 딕셔너리로 부터 여러 인자를 템플릿에 전달할 수 있다\n",
    "\n",
    "from flask import Flask, render_template, request\n",
    "\n",
    "app = Flask(__name__)\n",
    "\n",
    "@app.route('/echo/')\n",
    "def echo():\n",
    "    kwargs = {}\n",
    "    kwargs['thing'] = request.args.get('thing')\n",
    "    kwargs['place'] = request.args.get('place')\n",
    "    return render_template('flask3.html', **kwargs)\n",
    "\n",
    "app.run(port = 9999)\n",
    "\n",
    "# **kwargs는 thing=thing, place=place 처럼 작동\n",
    "# 입력인자가 많을 경우 타이핑을 줄일 수 있다\n"
   ]
  },
  {
   "cell_type": "code",
   "execution_count": null,
   "metadata": {
    "collapsed": true
   },
   "outputs": [],
   "source": [
    "#9.2.6 비파이썬 웹서버\n",
    "#1) 아파치와 mod_wsgi모듈 ->인기많음\n",
    "#2) 엔진엑스와 uWSGI 앱 서버 ->안정성, 적은 메모리 사용\n",
    "\n",
    "##아파치\n",
    "#mod_wsgi : 아파치 웹 서버에 최적화된 WSGI모듈\n",
    "#           아파치 프로세스 안에서 혹은 아파치와 통신하기 위해 분리된 프로세스 안에서 파이썬 코드 실행\n",
    "\n"
   ]
  },
  {
   "cell_type": "code",
   "execution_count": null,
   "metadata": {
    "collapsed": true
   },
   "outputs": [],
   "source": [
    "#django\n",
    "\n",
    "#0) 장고 프로젝트를 실행할 폴더 생성 후 이동\n",
    "#1) pip install django\n",
    "#1-1) sudo apt-get python3-django <- 2)으로 안넘어갈 시\n",
    "#2) django-admin startproject project_name  -> 장고 프로젝트 생성\n",
    "#3) ls 로 현재 디렉토리에 지정한 이름의 프로젝트 폴더 생성 확인(파이참에서도 확인)\n",
    "#4) 장고 프로젝트 폴더에 들어가서 python manage.py runserver 입력해서 서버 실행\n",
    "#5) 웹브라우저에 localhost:8000 들어가서 서버 확인\n",
    "#5-1) ctrl+C 서버 종료\n",
    "\n",
    "#app : 웹사이트를 기능별로 분리해놓은 단위 (투표하는 앱, 채팅하는 앱)\n",
    "\n",
    "#6) 프로젝트 폴더로 이동\n",
    "#7) python manage.py startapp <앱이름>   \n",
    "#8) ls 로 지정한 이름의 앱 디렉토리 생성된거 확인  \n",
    "\n",
    "#9) pycharm에서 app 폴더의 view.py 에 아래 코드 추가하기\n",
    "#   from django.http import HttpResponse\n",
    "#   def index(request):\n",
    "#    return HttpResponse(\"Hello world\")\n",
    "\n",
    "#10) pycharm 프로젝트폴더(test)의 urls.py 에 코드 추가하기\n",
    "#   from django.conf.urls import url, include  -> include 함수 사용하기 위해 임포트\n",
    "#   urlpatterns = [\n",
    "#      url(r'^', include('app_test.urls')),              -> r'^ : localhost:8000 , include : app이용하기 위해 쓰는 함수\n",
    "#      url(r'^admin/', admin.site.urls),                                            앱폴더에 urls.py로 넘기는 코드\n",
    "#     ]\n",
    "\n",
    "인\n",
    "#11) app폴더에 urls.py 복붙하고, 코드 수정\n",
    "#from . import views   -> 같은 디렉토리(앱폴더)의 뷰 모듈의 인덱스 함수 쓰기 위해 임포트\n",
    "# urlpatterns = [\n",
    "#    url(r'^$', views.index),     -> 앱폴더 내의 인덱스 함수 호출 -> 헬로 월드 출력하게함\n",
    "# ]\n",
    "\n",
    "\n",
    "#12) python manage.py runserver 로 서버 열고\n",
    "#13) 웹브라우저에서 localhost:8000 들어가서 헬로 월드 확인"
   ]
  },
  {
   "cell_type": "code",
   "execution_count": null,
   "metadata": {
    "collapsed": true
   },
   "outputs": [],
   "source": [
    "\n"
   ]
  }
 ],
 "metadata": {
  "kernelspec": {
   "display_name": "Python 3",
   "language": "python",
   "name": "python3"
  },
  "language_info": {
   "codemirror_mode": {
    "name": "ipython",
    "version": 3
   },
   "file_extension": ".py",
   "mimetype": "text/x-python",
   "name": "python",
   "nbconvert_exporter": "python",
   "pygments_lexer": "ipython3",
   "version": "3.6.1"
  }
 },
 "nbformat": 4,
 "nbformat_minor": 2
}
