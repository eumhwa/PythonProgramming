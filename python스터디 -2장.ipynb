{
 "cells": [
  {
   "cell_type": "code",
   "execution_count": 2,
   "metadata": {},
   "outputs": [
    {
     "data": {
      "text/plain": [
       "99999991234241241249"
      ]
     },
     "execution_count": 2,
     "metadata": {},
     "output_type": "execute_result"
    }
   ],
   "source": [
    "int(99999991234241241249) #int 32bit 지만 큰 용량 담을 수 있는 파이썬 장점"
   ]
  },
  {
   "cell_type": "code",
   "execution_count": 2,
   "metadata": {},
   "outputs": [
    {
     "data": {
      "text/plain": [
       "'DuckDuckGrey Duck!'"
      ]
     },
     "execution_count": 2,
     "metadata": {},
     "output_type": "execute_result"
    }
   ],
   "source": [
    "a = 'Duck'\n",
    "b = a \n",
    "c = 'Grey Duck!'\n",
    "a+b+c\n",
    "#print(a,b,c) 사이에 공백이 생긴다"
   ]
  },
  {
   "cell_type": "code",
   "execution_count": 8,
   "metadata": {},
   "outputs": [
    {
     "data": {
      "text/plain": [
       "'you'"
      ]
     },
     "execution_count": 8,
     "metadata": {},
     "output_type": "execute_result"
    }
   ],
   "source": [
    "letters = \"I'm fine Thank you and you\" \n",
    "letters[0]\n",
    "letters[:5]\n",
    "letters[-3:]\n",
    "letters[:-3]\n",
    "letters[0:5:2] # 시작:끝:건너뛰기"
   ]
  },
  {
   "cell_type": "code",
   "execution_count": 12,
   "metadata": {},
   "outputs": [
    {
     "data": {
      "text/plain": [
       "11"
      ]
     },
     "execution_count": 12,
     "metadata": {},
     "output_type": "execute_result"
    }
   ],
   "source": [
    "vol='i am hungry'\n",
    "len(vol)"
   ]
  },
  {
   "cell_type": "code",
   "execution_count": 15,
   "metadata": {},
   "outputs": [
    {
     "data": {
      "text/plain": [
       "['get gloves', ' get mask', ' give cat vitamis', ' call ambulance']"
      ]
     },
     "execution_count": 15,
     "metadata": {},
     "output_type": "execute_result"
    }
   ],
   "source": [
    "todos = 'get gloves, get mask, give cat vitamis, call ambulance'\n",
    "todos.split(',') # 문자열나누기"
   ]
  },
  {
   "cell_type": "code",
   "execution_count": 18,
   "metadata": {},
   "outputs": [
    {
     "name": "stdout",
     "output_type": "stream",
     "text": [
      "Yeti, Bigfoot, Loch Ness Monster\n"
     ]
    }
   ],
   "source": [
    "crypto_list = ['Yeti', 'Bigfoot', 'Loch Ness Monster']\n",
    "crypto_string = ', '.join(crypto_list)  # 리스트를 콤마와 스페이스로 구분하여 하나의 문자열로 결합(<->split)\n",
    "print(crypto_string)"
   ]
  },
  {
   "cell_type": "code",
   "execution_count": 27,
   "metadata": {},
   "outputs": [
    {
     "data": {
      "text/plain": [
       "False"
      ]
     },
     "execution_count": 27,
     "metadata": {},
     "output_type": "execute_result"
    }
   ],
   "source": [
    "poem = '''All that doth flow we cannot liquid name \n",
    "          Or else would fire and water be the same\n",
    "          But that is liquid which is moist and wet\n",
    "          Fire that property can never get.'''\n",
    "poem.startswith('All') #boolean\n",
    "poem.endswith('get.')\n",
    "poem.find('liquid') #offset (=index)\n",
    "poem.rfind('liquid') #마지막으로 liquid가 나오는 offset\n",
    "poem.count('liquid')\n",
    "poem.isalnum() # boolean -> 이 글은 모두 문자와 숫자로만 이루어졌는지 (.이 잇네)"
   ]
  },
  {
   "cell_type": "code",
   "execution_count": 35,
   "metadata": {},
   "outputs": [
    {
     "data": {
      "text/plain": [
       "'a duck goes into a bar...     '"
      ]
     },
     "execution_count": 35,
     "metadata": {},
     "output_type": "execute_result"
    }
   ],
   "source": [
    "setup = 'a duck goes into a bar...'\n",
    "setup.strip('.') #양끝에 . 삭제\n",
    "setup.capitalize() # 첫번째 단어 대문자로\n",
    "setup.title() #단어 첫자 대문자로\n",
    "setup.upper() #모두 대문자로\n",
    "setup.lower() #모두 소문자로\n",
    "setup.swapcase() #대문자는 소문자로, 소문자는 대문자로\n",
    "setup.center(30) #30 크기의 공간 중앙에 객체 위치\n",
    "setup.ljust(30)  #30 크기의 공간 좌측에 ..\n",
    "setup.rjust(30)  \n"
   ]
  },
  {
   "cell_type": "code",
   "execution_count": 37,
   "metadata": {},
   "outputs": [
    {
     "data": {
      "text/plain": [
       "'a small duck goes into a small bar...'"
      ]
     },
     "execution_count": 37,
     "metadata": {},
     "output_type": "execute_result"
    }
   ],
   "source": [
    "setup = 'a duck goes into a bar...'\n",
    "setup.replace('duck', 'cat')\n",
    "setup.replace('a', 'a small', 2) # 2번째 a까지 a small로 변경"
   ]
  }
 ],
 "metadata": {
  "kernelspec": {
   "display_name": "Python 3",
   "language": "python",
   "name": "python3"
  },
  "language_info": {
   "codemirror_mode": {
    "name": "ipython",
    "version": 3
   },
   "file_extension": ".py",
   "mimetype": "text/x-python",
   "name": "python",
   "nbconvert_exporter": "python",
   "pygments_lexer": "ipython3",
   "version": "3.6.1"
  }
 },
 "nbformat": 4,
 "nbformat_minor": 2
}
